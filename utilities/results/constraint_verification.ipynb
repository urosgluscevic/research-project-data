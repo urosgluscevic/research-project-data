{
 "cells": [
  {
   "cell_type": "code",
   "execution_count": 29,
   "id": "087820c7",
   "metadata": {},
   "outputs": [],
   "source": [
    "import pandas as pd\n",
    "from matplotlib import pyplot as plt"
   ]
  },
  {
   "cell_type": "code",
   "execution_count": 30,
   "id": "4a60f1ec",
   "metadata": {},
   "outputs": [],
   "source": [
    "df_su = pd.read_csv('results-new/1h-expensive-relaxedSUSD/var_start_up.csv')\n",
    "df_sd = pd.read_csv('results-new/1h-expensive-relaxedSUSD/var_shut_down.csv')\n",
    "df_uc = pd.read_csv('results-new/1h-expensive-tightSUSD/var_units_on.csv')"
   ]
  },
  {
   "cell_type": "code",
   "execution_count": 31,
   "id": "ea9e4832",
   "metadata": {},
   "outputs": [
    {
     "data": {
      "text/plain": [
       "array([0., 0., 0., 0., 0., 0., 2., 1., 0., 0., 0., 0., 0., 0., 0., 0., 3.,\n",
       "       0., 0., 0., 0., 0., 0., 0.])"
      ]
     },
     "execution_count": 31,
     "metadata": {},
     "output_type": "execute_result"
    }
   ],
   "source": [
    "AT_CCGT_SU = df_su[df_su['asset'] == 'AT_CCGT']\n",
    "AT_CCGT_SU = AT_CCGT_SU[AT_CCGT_SU['rep_period'] == 1]\n",
    "\n",
    "AT_CCGT_SU_VALS = AT_CCGT_SU['solution'].values\n",
    "AT_CCGT_SU_VALS\n",
    "        \n",
    "AT_CCGT_SU_VALS"
   ]
  },
  {
   "cell_type": "code",
   "execution_count": 32,
   "id": "454d4a37",
   "metadata": {},
   "outputs": [
    {
     "data": {
      "text/plain": [
       "array([0., 0., 0., 0., 0., 0., 2., 3., 3., 3., 1., 1., 0., 0., 0., 0., 3.,\n",
       "       3., 3., 3., 1., 0., 0., 0.])"
      ]
     },
     "execution_count": 32,
     "metadata": {},
     "output_type": "execute_result"
    }
   ],
   "source": [
    "AT_CCGT_UC = df_uc[df_uc['asset'] == 'AT_CCGT']\n",
    "AT_CCGT_UC = AT_CCGT_UC[AT_CCGT_UC['rep_period'] == 1]\n",
    "\n",
    "AT_CCGT_UC_VALS = AT_CCGT_UC['solution'].values\n",
    "AT_CCGT_UC_VALS"
   ]
  },
  {
   "cell_type": "code",
   "execution_count": 33,
   "id": "31ee1bd5",
   "metadata": {},
   "outputs": [],
   "source": [
    "uc_diff = []\n",
    "\n",
    "for i in range(1, len(AT_CCGT_UC_VALS)):\n",
    "    uc_diff.append(AT_CCGT_UC_VALS[i] - AT_CCGT_UC_VALS[i - 1])"
   ]
  },
  {
   "cell_type": "code",
   "execution_count": 40,
   "id": "939ee275",
   "metadata": {},
   "outputs": [
    {
     "data": {
      "text/plain": [
       "<matplotlib.legend.Legend at 0x2588e809390>"
      ]
     },
     "execution_count": 40,
     "metadata": {},
     "output_type": "execute_result"
    },
    {
     "data": {
      "image/png": "[encoded data removed]",
      "text/plain": [
       "<Figure size 640x480 with 1 Axes>"
      ]
     },
     "metadata": {},
     "output_type": "display_data"
    }
   ],
   "source": [
    "plt.scatter(AT_CCGT_SU['time_block_start'].values[1:], AT_CCGT_SU_VALS[1:], label=\"SU\", alpha=0.5)\n",
    "plt.scatter(AT_CCGT_UC['time_block_start'].values[1:], uc_diff, label=\"UC\", alpha=0.5)\n",
    "\n",
    "plt.legend()"
   ]
  },
  {
   "cell_type": "code",
   "execution_count": 35,
   "id": "cb7f7802",
   "metadata": {},
   "outputs": [
    {
     "data": {
      "text/html": [
       "<div>\n",
       "<style scoped>\n",
       "    .dataframe tbody tr th:only-of-type {\n",
       "        vertical-align: middle;\n",
       "    }\n",
       "\n",
       "    .dataframe tbody tr th {\n",
       "        vertical-align: top;\n",
       "    }\n",
       "\n",
       "    .dataframe thead th {\n",
       "        text-align: right;\n",
       "    }\n",
       "</style>\n",
       "<table border=\"1\" class=\"dataframe\">\n",
       "  <thead>\n",
       "    <tr style=\"text-align: right;\">\n",
       "      <th></th>\n",
       "      <th>id</th>\n",
       "      <th>asset</th>\n",
       "      <th>year</th>\n",
       "      <th>rep_period</th>\n",
       "      <th>time_block_start</th>\n",
       "      <th>time_block_end</th>\n",
       "      <th>unit_commitment_integer</th>\n",
       "      <th>solution</th>\n",
       "    </tr>\n",
       "  </thead>\n",
       "  <tbody>\n",
       "    <tr>\n",
       "      <th>0</th>\n",
       "      <td>1</td>\n",
       "      <td>AT_CCGT</td>\n",
       "      <td>2050</td>\n",
       "      <td>1</td>\n",
       "      <td>1</td>\n",
       "      <td>1</td>\n",
       "      <td>True</td>\n",
       "      <td>0.0</td>\n",
       "    </tr>\n",
       "    <tr>\n",
       "      <th>1</th>\n",
       "      <td>2</td>\n",
       "      <td>AT_CCGT</td>\n",
       "      <td>2050</td>\n",
       "      <td>1</td>\n",
       "      <td>2</td>\n",
       "      <td>2</td>\n",
       "      <td>True</td>\n",
       "      <td>0.0</td>\n",
       "    </tr>\n",
       "    <tr>\n",
       "      <th>2</th>\n",
       "      <td>3</td>\n",
       "      <td>AT_CCGT</td>\n",
       "      <td>2050</td>\n",
       "      <td>1</td>\n",
       "      <td>3</td>\n",
       "      <td>3</td>\n",
       "      <td>True</td>\n",
       "      <td>0.0</td>\n",
       "    </tr>\n",
       "    <tr>\n",
       "      <th>3</th>\n",
       "      <td>4</td>\n",
       "      <td>AT_CCGT</td>\n",
       "      <td>2050</td>\n",
       "      <td>1</td>\n",
       "      <td>4</td>\n",
       "      <td>4</td>\n",
       "      <td>True</td>\n",
       "      <td>0.0</td>\n",
       "    </tr>\n",
       "    <tr>\n",
       "      <th>4</th>\n",
       "      <td>5</td>\n",
       "      <td>AT_CCGT</td>\n",
       "      <td>2050</td>\n",
       "      <td>1</td>\n",
       "      <td>5</td>\n",
       "      <td>5</td>\n",
       "      <td>True</td>\n",
       "      <td>0.0</td>\n",
       "    </tr>\n",
       "    <tr>\n",
       "      <th>...</th>\n",
       "      <td>...</td>\n",
       "      <td>...</td>\n",
       "      <td>...</td>\n",
       "      <td>...</td>\n",
       "      <td>...</td>\n",
       "      <td>...</td>\n",
       "      <td>...</td>\n",
       "      <td>...</td>\n",
       "    </tr>\n",
       "    <tr>\n",
       "      <th>28795</th>\n",
       "      <td>28796</td>\n",
       "      <td>UK_OCGT</td>\n",
       "      <td>2050</td>\n",
       "      <td>10</td>\n",
       "      <td>20</td>\n",
       "      <td>20</td>\n",
       "      <td>True</td>\n",
       "      <td>0.0</td>\n",
       "    </tr>\n",
       "    <tr>\n",
       "      <th>28796</th>\n",
       "      <td>28797</td>\n",
       "      <td>UK_OCGT</td>\n",
       "      <td>2050</td>\n",
       "      <td>10</td>\n",
       "      <td>21</td>\n",
       "      <td>21</td>\n",
       "      <td>True</td>\n",
       "      <td>7.0</td>\n",
       "    </tr>\n",
       "    <tr>\n",
       "      <th>28797</th>\n",
       "      <td>28798</td>\n",
       "      <td>UK_OCGT</td>\n",
       "      <td>2050</td>\n",
       "      <td>10</td>\n",
       "      <td>22</td>\n",
       "      <td>22</td>\n",
       "      <td>True</td>\n",
       "      <td>0.0</td>\n",
       "    </tr>\n",
       "    <tr>\n",
       "      <th>28798</th>\n",
       "      <td>28799</td>\n",
       "      <td>UK_OCGT</td>\n",
       "      <td>2050</td>\n",
       "      <td>10</td>\n",
       "      <td>23</td>\n",
       "      <td>23</td>\n",
       "      <td>True</td>\n",
       "      <td>0.0</td>\n",
       "    </tr>\n",
       "    <tr>\n",
       "      <th>28799</th>\n",
       "      <td>28800</td>\n",
       "      <td>UK_OCGT</td>\n",
       "      <td>2050</td>\n",
       "      <td>10</td>\n",
       "      <td>24</td>\n",
       "      <td>24</td>\n",
       "      <td>True</td>\n",
       "      <td>0.0</td>\n",
       "    </tr>\n",
       "  </tbody>\n",
       "</table>\n",
       "<p>28800 rows × 8 columns</p>\n",
       "</div>"
      ],
      "text/plain": [
       "          id    asset  year  rep_period  time_block_start  time_block_end  \\\n",
       "0          1  AT_CCGT  2050           1                 1               1   \n",
       "1          2  AT_CCGT  2050           1                 2               2   \n",
       "2          3  AT_CCGT  2050           1                 3               3   \n",
       "3          4  AT_CCGT  2050           1                 4               4   \n",
       "4          5  AT_CCGT  2050           1                 5               5   \n",
       "...      ...      ...   ...         ...               ...             ...   \n",
       "28795  28796  UK_OCGT  2050          10                20              20   \n",
       "28796  28797  UK_OCGT  2050          10                21              21   \n",
       "28797  28798  UK_OCGT  2050          10                22              22   \n",
       "28798  28799  UK_OCGT  2050          10                23              23   \n",
       "28799  28800  UK_OCGT  2050          10                24              24   \n",
       "\n",
       "       unit_commitment_integer  solution  \n",
       "0                         True       0.0  \n",
       "1                         True       0.0  \n",
       "2                         True       0.0  \n",
       "3                         True       0.0  \n",
       "4                         True       0.0  \n",
       "...                        ...       ...  \n",
       "28795                     True       0.0  \n",
       "28796                     True       7.0  \n",
       "28797                     True       0.0  \n",
       "28798                     True       0.0  \n",
       "28799                     True       0.0  \n",
       "\n",
       "[28800 rows x 8 columns]"
      ]
     },
     "execution_count": 35,
     "metadata": {},
     "output_type": "execute_result"
    }
   ],
   "source": [
    "df_sd"
   ]
  },
  {
   "cell_type": "code",
   "execution_count": null,
   "id": "173f8b6a",
   "metadata": {},
   "outputs": [],
   "source": []
  }
 ],
 "metadata": {
  "kernelspec": {
   "display_name": "Python 3 (ipykernel)",
   "language": "python",
   "name": "python3"
  },
  "language_info": {
   "codemirror_mode": {
    "name": "ipython",
    "version": 3
   },
   "file_extension": ".py",
   "mimetype": "text/x-python",
   "name": "python",
   "nbconvert_exporter": "python",
   "pygments_lexer": "ipython3",
   "version": "3.11.4"
  }
 },
 "nbformat": 4,
 "nbformat_minor": 5
}
