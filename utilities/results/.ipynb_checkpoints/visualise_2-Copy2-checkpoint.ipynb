{
 "cells": [
  {
   "cell_type": "code",
   "execution_count": 1,
   "id": "0993d31f",
   "metadata": {},
   "outputs": [],
   "source": [
    "import matplotlib.pyplot as plt\n",
    "import numpy as np\n",
    "import json"
   ]
  },
  {
   "cell_type": "code",
   "execution_count": 2,
   "id": "61850411",
   "metadata": {},
   "outputs": [],
   "source": [
    "case_studies = [\n",
    "    \"1h-none-noSUSD\",\n",
    "    \"1h-expensive-relaxedSUSD\",\n",
    "    \"1h-expensive-tightSUSD\",\n",
    "    \"2h-none-noSUSD\",\n",
    "    \"2h-expensive-relaxedSUSD\",\n",
    "    \"2h-expensive-tightSUSD\",\n",
    "    \"3h-none-noSUSD\",\n",
    "    \"3h-expensive-relaxedSUSD\",\n",
    "    \"3h-expensive-tightSUSD\",\n",
    "    \"4h-none-noSUSD\",\n",
    "    \"4h-expensive-relaxedSUSD\",\n",
    "    \"4h-expensive-tightSUSD\",\n",
    "    \"5h-none-noSUSD\",\n",
    "    \"5h-expensive-relaxedSUSD\",\n",
    "    \"5h-expensive-tightSUSD\",\n",
    "    \"geographical-none-noSUSD\",\n",
    "    \"geographical-expensive-relaxedSUSD\",\n",
    "    \"geographical-expensive-tightSUSD\",\n",
    "]\n",
    "\n",
    "# case_studies = [\n",
    "# #     \"1h-none-noSUSD\",\n",
    "# #     \"1h-cheap-relaxedSUSD\",\n",
    "# #     \"1h-cheap-tightSUSD\",\n",
    "# #     \"1h-expensive-relaxedSUSD\",\n",
    "# #     \"1h-expensive-tightSUSD\",\n",
    "# #     \"2h-none-noSUSD\",\n",
    "# #     \"2h-cheap-relaxedSUSD\",\n",
    "# #     \"2h-cheap-tightSUSD\",\n",
    "# #     \"2h-expensive-relaxedSUSD\",\n",
    "# #     \"2h-expensive-tightSUSD\",\n",
    "# #     \"3h-none-noSUSD\",\n",
    "# #     \"3h-cheap-relaxedSUSD\",\n",
    "# #     \"3h-cheap-tightSUSD\",\n",
    "# #     \"3h-expensive-relaxedSUSD\",\n",
    "# #     \"3h-expensive-tightSUSD\",\n",
    "# #     \"4h-none-noSUSD\",\n",
    "# #     \"4h-cheap-relaxedSUSD\",\n",
    "# #     \"4h-cheap-tightSUSD\",\n",
    "# #     \"4h-expensive-relaxedSUSD\",\n",
    "# #     \"4h-expensive-tightSUSD\",\n",
    "# #     \"5h-none-noSUSD\",\n",
    "# #     \"5h-cheap-relaxedSUSD\",\n",
    "# #     \"5h-cheap-tightSUSD\",\n",
    "# #     \"5h-expensive-relaxedSUSD\",\n",
    "# #     \"5h-expensive-tightSUSD\",\n",
    "#     \"geobig-none-noSUSD\",\n",
    "#     \"geobig-cheap-relaxedSUSD\",\n",
    "#     \"geobig-cheap-tightSUSD\",\n",
    "#     \"geobig-expensive-relaxedSUSD\",\n",
    "#     \"geobig-expensive-tightSUSD\",\n",
    "# ]"
   ]
  },
  {
   "cell_type": "code",
   "execution_count": 3,
   "id": "a322a900",
   "metadata": {},
   "outputs": [],
   "source": [
    "input_file = open ('output.json')\n",
    "json_array = json.load(input_file)\n",
    "\n",
    "# json_array"
   ]
  },
  {
   "cell_type": "code",
   "execution_count": 4,
   "id": "57e2696e-9655-42a1-8d4e-5324ba14c96b",
   "metadata": {},
   "outputs": [],
   "source": [
    "stripped_data = json_array[1][0][1]['data']\n",
    "# stripped_data"
   ]
  },
  {
   "cell_type": "code",
   "execution_count": 5,
   "id": "3fe5f9ac-6649-4ad8-a2a7-7c55045b8acf",
   "metadata": {},
   "outputs": [],
   "source": [
    "# for key in stripped_data:\n",
    "#     print(key)\n",
    "#     print(stripped_data[key], '\\n')"
   ]
  },
  {
   "cell_type": "code",
   "execution_count": 6,
   "id": "b9a389a7-c13f-4850-9c3a-03b3250a4903",
   "metadata": {},
   "outputs": [],
   "source": [
    "run_model = stripped_data['run_model'][1]['data']\n",
    "\n",
    "# run_model"
   ]
  },
  {
   "cell_type": "code",
   "execution_count": 7,
   "id": "d14a64d2",
   "metadata": {},
   "outputs": [],
   "source": [
    "run_model_times = np.array([run_model[case_study][1]['times'] for case_study in case_studies])"
   ]
  },
  {
   "cell_type": "code",
   "execution_count": 8,
   "id": "38f11459",
   "metadata": {
    "scrolled": false
   },
   "outputs": [],
   "source": [
    "# run_model_times"
   ]
  },
  {
   "cell_type": "code",
   "execution_count": 9,
   "id": "c4669947",
   "metadata": {},
   "outputs": [
    {
     "data": {
      "text/plain": [
       "array([ 86.0828648,  71.7052896, 155.3052968,  24.1032126,  41.0939742,\n",
       "        38.1993957,  15.8754974,  16.183318 ,  20.3689931,   5.4784802,\n",
       "        13.4992715,   8.7171508,   5.5180732,   4.2747227,   4.8310181,\n",
       "       173.7165939, 198.9328781, 306.5401973])"
      ]
     },
     "execution_count": 9,
     "metadata": {},
     "output_type": "execute_result"
    }
   ],
   "source": [
    "run_model_means = np.mean(run_model_times, axis=1) / (1e9)\n",
    "run_model_means"
   ]
  },
  {
   "cell_type": "code",
   "execution_count": 10,
   "id": "5293d39d",
   "metadata": {},
   "outputs": [],
   "source": [
    "case_studies_labels = ['none', 'tight', 'relaxed', 'none', 'tight', 'relaxed', 'none', 'tight', 'relaxed', 'none', 'tight', 'relaxed', 'none', 'tight', 'relaxed', 'none', 'tight', 'relaxed']"
   ]
  },
  {
   "cell_type": "code",
   "execution_count": 11,
   "id": "c8440d76",
   "metadata": {},
   "outputs": [],
   "source": [
    "objective_values = [4.705879153523034e11, 4.705837752905728e11, 4.70584136617439e11, 4.669855539080964e11, 4.6697735677232733e11, 4.6698504097514044e11, 4.250391948119547e11, 4.250128374928639e11, 4.250386968757886e11]"
   ]
  },
  {
   "cell_type": "code",
   "execution_count": 12,
   "id": "952a9431",
   "metadata": {},
   "outputs": [
    {
     "name": "stdout",
     "output_type": "stream",
     "text": [
      "[0, 3, 4, 5, 8, 9, 10, 13, 14, 15]\n"
     ]
    },
    {
     "data": {
      "text/plain": [
       "array([ 86.0828648,  24.1032126,  41.0939742,  38.1993957,  20.3689931,\n",
       "         5.4784802,  13.4992715,   4.2747227,   4.8310181, 173.7165939])"
      ]
     },
     "execution_count": 12,
     "metadata": {},
     "output_type": "execute_result"
    }
   ],
   "source": [
    "# indixes = [x for x in range(len(case_studies)) if x % 5 in [0, 3, 4]]\n",
    "# print(indixes)\n",
    "\n",
    "# expensive_means = run_model_means[indixes]\n",
    "# expensive_means\n",
    "\n",
    "expensive_means = run_model_means"
   ]
  },
  {
   "cell_type": "code",
   "execution_count": 13,
   "id": "802c89cb",
   "metadata": {},
   "outputs": [],
   "source": [
    "def plot_times(run_model_means, title):\n",
    "    width = 0.2\n",
    "    x = np.arange(len(run_model_means) / 3)\n",
    "\n",
    "    fig, ax = plt.subplots()\n",
    "\n",
    "    bar1 = ax.bar(x - width, run_model_means[0::3], width, label='No SU/SD costs')\n",
    "    bar2 = ax.bar(x, run_model_means[1::3], width, label='Compact constraints')\n",
    "    bar3 = ax.bar(x + width, run_model_means[2::3], width, label='Full constraints')\n",
    "\n",
    "\n",
    "    ax.legend()\n",
    "\n",
    "    #setting bar labels\n",
    "    plt.rcParams.update({'font.size': 6})\n",
    "    \n",
    "    ax.bar_label(bar1, fmt='%.1f')\n",
    "    ax.bar_label(bar2, fmt='%.1f')\n",
    "    ax.bar_label(bar3, fmt='%.1f')\n",
    "    \n",
    "    plt.rcParams.update({'font.size': 10})\n",
    "\n",
    "    plt.title(title)\n",
    "    plt.ylabel(\"Average model runtime [s]\")\n",
    "    plt.xlabel(\"Temporal resolution\")\n",
    "\n",
    "    fig.tight_layout()\n",
    "\n",
    "    # ax.set_xticks(x, ['2h uniform resolution', '4h uniform resolution', '6h uniform resolution'])\n",
    "    ax.set_xticks(x, ['1h uniform', '2h uniform', '3h uniform', '4h uniform', '5h uniform', 'geographical'])\n",
    "\n",
    "\n",
    "    ########################################################################\n",
    "\n",
    "    # ax2 = ax.twinx()\n",
    "    # ax2.set_ylabel(\"Objective function value [1e11 EUR]\", color='tab:red')\n",
    "    # ax2.tick_params(axis='y', labelcolor='tab:red')\n",
    "\n",
    "    # min_obj = min(objective_values)\n",
    "    # max_obj = max(objective_values)\n",
    "\n",
    "    # # Add a small margin to the min and max\n",
    "    # margin = (max_obj - min_obj) * 1  # 10% padding\n",
    "\n",
    "    # ax2.set_ylim(min_obj - margin, max_obj + margin)\n",
    "\n",
    "\n",
    "    # Plot objective values as lines + markers\n",
    "    offsets = [-width, 0, width]\n",
    "    labels = ['No SU/SD', 'Tight SU/SD', 'Relaxed SU/SD']\n",
    "    colors = ['#168FD899', '#DC740E99', '#75B76C99']\n",
    "\n",
    "    # for i in range(3):\n",
    "    #     obj_vals = objective_values[i::3]  # Every third starting at i\n",
    "    #     ax2.scatter(x + offsets[i], obj_vals, label=f'{labels[i]} Obj', color=colors[i], edgecolors='black')\n",
    "\n",
    "    # Combine legends from both axes\n",
    "    plt.rcParams.update({'font.size': 10})\n",
    "\n",
    "    lines1, labels1 = ax.get_legend_handles_labels()\n",
    "    # lines2, labels2 = ax2.get_legend_handles_labels()\n",
    "    # ax.legend(lines1 + lines2, labels1 + labels2, loc='upper right')\n",
    "    ax.legend(lines1, labels1, loc='upper right')\n",
    "    # bar2 = ax.bar(['d', 'e', 'f'], run_model_means[3:], label='two')"
   ]
  },
  {
   "cell_type": "code",
   "execution_count": 14,
   "id": "ed4ff47a",
   "metadata": {},
   "outputs": [
    {
     "ename": "ValueError",
     "evalue": "shape mismatch: objects cannot be broadcast to a single shape.  Mismatch is between arg 0 with shape (4,) and arg 1 with shape (3,).",
     "output_type": "error",
     "traceback": [
      "\u001b[1;31m---------------------------------------------------------------------------\u001b[0m",
      "\u001b[1;31mValueError\u001b[0m                                Traceback (most recent call last)",
      "Cell \u001b[1;32mIn[14], line 1\u001b[0m\n\u001b[1;32m----> 1\u001b[0m plot_times(expensive_means, \u001b[38;5;124m\"\u001b[39m\u001b[38;5;124mAverage time (in seconds) for solving the model \u001b[39m\u001b[38;5;130;01m\\n\u001b[39;00m\u001b[38;5;124m for all temporal resolutions and constraints, in the expensive case\u001b[39m\u001b[38;5;124m\"\u001b[39m)\n",
      "Cell \u001b[1;32mIn[13], line 8\u001b[0m, in \u001b[0;36mplot_times\u001b[1;34m(run_model_means, title)\u001b[0m\n\u001b[0;32m      5\u001b[0m fig, ax \u001b[38;5;241m=\u001b[39m plt\u001b[38;5;241m.\u001b[39msubplots()\n\u001b[0;32m      7\u001b[0m bar1 \u001b[38;5;241m=\u001b[39m ax\u001b[38;5;241m.\u001b[39mbar(x \u001b[38;5;241m-\u001b[39m width, run_model_means[\u001b[38;5;241m0\u001b[39m::\u001b[38;5;241m3\u001b[39m], width, label\u001b[38;5;241m=\u001b[39m\u001b[38;5;124m'\u001b[39m\u001b[38;5;124mNo SU/SD costs\u001b[39m\u001b[38;5;124m'\u001b[39m)\n\u001b[1;32m----> 8\u001b[0m bar2 \u001b[38;5;241m=\u001b[39m ax\u001b[38;5;241m.\u001b[39mbar(x, run_model_means[\u001b[38;5;241m1\u001b[39m::\u001b[38;5;241m3\u001b[39m], width, label\u001b[38;5;241m=\u001b[39m\u001b[38;5;124m'\u001b[39m\u001b[38;5;124mCompact constraints\u001b[39m\u001b[38;5;124m'\u001b[39m)\n\u001b[0;32m      9\u001b[0m bar3 \u001b[38;5;241m=\u001b[39m ax\u001b[38;5;241m.\u001b[39mbar(x \u001b[38;5;241m+\u001b[39m width, run_model_means[\u001b[38;5;241m2\u001b[39m::\u001b[38;5;241m3\u001b[39m], width, label\u001b[38;5;241m=\u001b[39m\u001b[38;5;124m'\u001b[39m\u001b[38;5;124mFull constraints\u001b[39m\u001b[38;5;124m'\u001b[39m)\n\u001b[0;32m     12\u001b[0m ax\u001b[38;5;241m.\u001b[39mlegend()\n",
      "File \u001b[1;32m~\\anaconda3\\Lib\\site-packages\\matplotlib\\__init__.py:1442\u001b[0m, in \u001b[0;36m_preprocess_data.<locals>.inner\u001b[1;34m(ax, data, *args, **kwargs)\u001b[0m\n\u001b[0;32m   1439\u001b[0m \u001b[38;5;129m@functools\u001b[39m\u001b[38;5;241m.\u001b[39mwraps(func)\n\u001b[0;32m   1440\u001b[0m \u001b[38;5;28;01mdef\u001b[39;00m \u001b[38;5;21minner\u001b[39m(ax, \u001b[38;5;241m*\u001b[39margs, data\u001b[38;5;241m=\u001b[39m\u001b[38;5;28;01mNone\u001b[39;00m, \u001b[38;5;241m*\u001b[39m\u001b[38;5;241m*\u001b[39mkwargs):\n\u001b[0;32m   1441\u001b[0m     \u001b[38;5;28;01mif\u001b[39;00m data \u001b[38;5;129;01mis\u001b[39;00m \u001b[38;5;28;01mNone\u001b[39;00m:\n\u001b[1;32m-> 1442\u001b[0m         \u001b[38;5;28;01mreturn\u001b[39;00m func(ax, \u001b[38;5;241m*\u001b[39m\u001b[38;5;28mmap\u001b[39m(sanitize_sequence, args), \u001b[38;5;241m*\u001b[39m\u001b[38;5;241m*\u001b[39mkwargs)\n\u001b[0;32m   1444\u001b[0m     bound \u001b[38;5;241m=\u001b[39m new_sig\u001b[38;5;241m.\u001b[39mbind(ax, \u001b[38;5;241m*\u001b[39margs, \u001b[38;5;241m*\u001b[39m\u001b[38;5;241m*\u001b[39mkwargs)\n\u001b[0;32m   1445\u001b[0m     auto_label \u001b[38;5;241m=\u001b[39m (bound\u001b[38;5;241m.\u001b[39marguments\u001b[38;5;241m.\u001b[39mget(label_namer)\n\u001b[0;32m   1446\u001b[0m                   \u001b[38;5;129;01mor\u001b[39;00m bound\u001b[38;5;241m.\u001b[39mkwargs\u001b[38;5;241m.\u001b[39mget(label_namer))\n",
      "File \u001b[1;32m~\\anaconda3\\Lib\\site-packages\\matplotlib\\axes\\_axes.py:2417\u001b[0m, in \u001b[0;36mAxes.bar\u001b[1;34m(self, x, height, width, bottom, align, **kwargs)\u001b[0m\n\u001b[0;32m   2414\u001b[0m     \u001b[38;5;28;01mif\u001b[39;00m yerr \u001b[38;5;129;01mis\u001b[39;00m \u001b[38;5;129;01mnot\u001b[39;00m \u001b[38;5;28;01mNone\u001b[39;00m:\n\u001b[0;32m   2415\u001b[0m         yerr \u001b[38;5;241m=\u001b[39m \u001b[38;5;28mself\u001b[39m\u001b[38;5;241m.\u001b[39m_convert_dx(yerr, y0, y, \u001b[38;5;28mself\u001b[39m\u001b[38;5;241m.\u001b[39mconvert_yunits)\n\u001b[1;32m-> 2417\u001b[0m x, height, width, y, linewidth, hatch \u001b[38;5;241m=\u001b[39m np\u001b[38;5;241m.\u001b[39mbroadcast_arrays(\n\u001b[0;32m   2418\u001b[0m     \u001b[38;5;66;03m# Make args iterable too.\u001b[39;00m\n\u001b[0;32m   2419\u001b[0m     np\u001b[38;5;241m.\u001b[39matleast_1d(x), height, width, y, linewidth, hatch)\n\u001b[0;32m   2421\u001b[0m \u001b[38;5;66;03m# Now that units have been converted, set the tick locations.\u001b[39;00m\n\u001b[0;32m   2422\u001b[0m \u001b[38;5;28;01mif\u001b[39;00m orientation \u001b[38;5;241m==\u001b[39m \u001b[38;5;124m'\u001b[39m\u001b[38;5;124mvertical\u001b[39m\u001b[38;5;124m'\u001b[39m:\n",
      "File \u001b[1;32m<__array_function__ internals>:200\u001b[0m, in \u001b[0;36mbroadcast_arrays\u001b[1;34m(*args, **kwargs)\u001b[0m\n",
      "File \u001b[1;32m~\\anaconda3\\Lib\\site-packages\\numpy\\lib\\stride_tricks.py:540\u001b[0m, in \u001b[0;36mbroadcast_arrays\u001b[1;34m(subok, *args)\u001b[0m\n\u001b[0;32m    533\u001b[0m \u001b[38;5;66;03m# nditer is not used here to avoid the limit of 32 arrays.\u001b[39;00m\n\u001b[0;32m    534\u001b[0m \u001b[38;5;66;03m# Otherwise, something like the following one-liner would suffice:\u001b[39;00m\n\u001b[0;32m    535\u001b[0m \u001b[38;5;66;03m# return np.nditer(args, flags=['multi_index', 'zerosize_ok'],\u001b[39;00m\n\u001b[0;32m    536\u001b[0m \u001b[38;5;66;03m#                  order='C').itviews\u001b[39;00m\n\u001b[0;32m    538\u001b[0m args \u001b[38;5;241m=\u001b[39m [np\u001b[38;5;241m.\u001b[39marray(_m, copy\u001b[38;5;241m=\u001b[39m\u001b[38;5;28;01mFalse\u001b[39;00m, subok\u001b[38;5;241m=\u001b[39msubok) \u001b[38;5;28;01mfor\u001b[39;00m _m \u001b[38;5;129;01min\u001b[39;00m args]\n\u001b[1;32m--> 540\u001b[0m shape \u001b[38;5;241m=\u001b[39m _broadcast_shape(\u001b[38;5;241m*\u001b[39margs)\n\u001b[0;32m    542\u001b[0m \u001b[38;5;28;01mif\u001b[39;00m \u001b[38;5;28mall\u001b[39m(array\u001b[38;5;241m.\u001b[39mshape \u001b[38;5;241m==\u001b[39m shape \u001b[38;5;28;01mfor\u001b[39;00m array \u001b[38;5;129;01min\u001b[39;00m args):\n\u001b[0;32m    543\u001b[0m     \u001b[38;5;66;03m# Common case where nothing needs to be broadcasted.\u001b[39;00m\n\u001b[0;32m    544\u001b[0m     \u001b[38;5;28;01mreturn\u001b[39;00m args\n",
      "File \u001b[1;32m~\\anaconda3\\Lib\\site-packages\\numpy\\lib\\stride_tricks.py:422\u001b[0m, in \u001b[0;36m_broadcast_shape\u001b[1;34m(*args)\u001b[0m\n\u001b[0;32m    417\u001b[0m \u001b[38;5;250m\u001b[39m\u001b[38;5;124;03m\"\"\"Returns the shape of the arrays that would result from broadcasting the\u001b[39;00m\n\u001b[0;32m    418\u001b[0m \u001b[38;5;124;03msupplied arrays against each other.\u001b[39;00m\n\u001b[0;32m    419\u001b[0m \u001b[38;5;124;03m\"\"\"\u001b[39;00m\n\u001b[0;32m    420\u001b[0m \u001b[38;5;66;03m# use the old-iterator because np.nditer does not handle size 0 arrays\u001b[39;00m\n\u001b[0;32m    421\u001b[0m \u001b[38;5;66;03m# consistently\u001b[39;00m\n\u001b[1;32m--> 422\u001b[0m b \u001b[38;5;241m=\u001b[39m np\u001b[38;5;241m.\u001b[39mbroadcast(\u001b[38;5;241m*\u001b[39margs[:\u001b[38;5;241m32\u001b[39m])\n\u001b[0;32m    423\u001b[0m \u001b[38;5;66;03m# unfortunately, it cannot handle 32 or more arguments directly\u001b[39;00m\n\u001b[0;32m    424\u001b[0m \u001b[38;5;28;01mfor\u001b[39;00m pos \u001b[38;5;129;01min\u001b[39;00m \u001b[38;5;28mrange\u001b[39m(\u001b[38;5;241m32\u001b[39m, \u001b[38;5;28mlen\u001b[39m(args), \u001b[38;5;241m31\u001b[39m):\n\u001b[0;32m    425\u001b[0m     \u001b[38;5;66;03m# ironically, np.broadcast does not properly handle np.broadcast\u001b[39;00m\n\u001b[0;32m    426\u001b[0m     \u001b[38;5;66;03m# objects (it treats them as scalars)\u001b[39;00m\n\u001b[0;32m    427\u001b[0m     \u001b[38;5;66;03m# use broadcasting to avoid allocating the full array\u001b[39;00m\n",
      "\u001b[1;31mValueError\u001b[0m: shape mismatch: objects cannot be broadcast to a single shape.  Mismatch is between arg 0 with shape (4,) and arg 1 with shape (3,)."
     ]
    },
    {
     "data": {
      "image/png": "[encoded data removed]",
      "text/plain": [
       "<Figure size 640x480 with 1 Axes>"
      ]
     },
     "metadata": {},
     "output_type": "display_data"
    }
   ],
   "source": [
    "plot_times(expensive_means, \"Average time (in seconds) for solving the model \\n for all temporal resolutions and constraints, in the expensive case\")"
   ]
  },
  {
   "cell_type": "code",
   "execution_count": null,
   "id": "691be1ab",
   "metadata": {},
   "outputs": [],
   "source": [
    "indixes = [x for x in range(len(case_studies)) if x % 5 not in [3, 4]]\n",
    "print(indixes)\n",
    "\n",
    "cheap_means = run_model_means[indixes]\n",
    "cheap_means"
   ]
  },
  {
   "cell_type": "code",
   "execution_count": null,
   "id": "346d26a5",
   "metadata": {},
   "outputs": [],
   "source": [
    "plot_times(cheap_means, \"Average time (in seconds) for solving the model \\n for all temporal resolutions and constraints, in the cheap case\")"
   ]
  },
  {
   "cell_type": "code",
   "execution_count": null,
   "id": "91e9bbd5",
   "metadata": {},
   "outputs": [],
   "source": [
    "# plt.bar(case_studies, run_model_means)\n",
    "# # case_studies = ['10-rps-uniform-2h-noUC', '10-rps-uniform-2h-eq7UC', '10-rps-uniform-2h-eq9UC', '10-rps-uniform-4h-noUC', '10-rps-uniform-4h-eq7UC', '10-rps-uniform-4h-eq9UC']"
   ]
  },
  {
   "cell_type": "code",
   "execution_count": null,
   "id": "41009e68",
   "metadata": {},
   "outputs": [],
   "source": [
    "# width = 0.3\n",
    "# x = np.arange(len(case_studies) / 3)\n",
    "\n",
    "# fig, ax = plt.subplots()\n",
    "\n",
    "# bar1 = ax.bar(x - width, create_model_means[0::3], width, label='noUC')\n",
    "# bar2 = ax.bar(x, create_model_means[1::3], width, label='eq7UC')\n",
    "# bar3 = ax.bar(x + width, create_model_means[2::3], width, label='eq9UC')\n",
    "\n",
    "\n",
    "# ax.legend()\n",
    "\n",
    "# #setting bar labels\n",
    "# ax.bar_label(bar1, fmt='%.2f')\n",
    "# ax.bar_label(bar2, fmt='%.2f')\n",
    "# ax.bar_label(bar3, fmt='%.2f')\n",
    "\n",
    "# plt.title(\"Model runtimes\")\n",
    "# plt.ylabel(\"Time [s]\")\n",
    "\n",
    "# ax.set_xticks(x, ['2h uniform', '4h uniform'])"
   ]
  },
  {
   "cell_type": "code",
   "execution_count": null,
   "id": "ef8dcf84",
   "metadata": {},
   "outputs": [],
   "source": [
    "my_list = [0, 1, 2, 3, 4, 5, 6, 7, 8, 9, 10]"
   ]
  },
  {
   "cell_type": "code",
   "execution_count": null,
   "id": "71bf41b4",
   "metadata": {},
   "outputs": [],
   "source": [
    "my_list[1::3]"
   ]
  },
  {
   "cell_type": "code",
   "execution_count": null,
   "id": "45f5fe32",
   "metadata": {},
   "outputs": [],
   "source": [
    "np.mean(np.array(run_model['1h-expensive-relaxedSUSD'][1]['times'])) / 1e9"
   ]
  },
  {
   "cell_type": "code",
   "execution_count": null,
   "id": "5063835f",
   "metadata": {},
   "outputs": [],
   "source": [
    "np.array(case_studies)[indixes][1::3]"
   ]
  },
  {
   "cell_type": "code",
   "execution_count": null,
   "id": "42d69259",
   "metadata": {},
   "outputs": [],
   "source": [
    "fig, ax = plt.subplots()\n",
    "\n",
    "b1 = ax.bar(0, run_model_means[0])\n",
    "b2 = ax.bar(1, run_model_means[1])\n",
    "b3 = ax.bar(2, run_model_means[2])\n",
    "b4 = ax.bar(3, run_model_means[3])\n",
    "b5 = ax.bar(4, run_model_means[4])\n",
    "\n",
    "ax.bar_label(b1, fmt='%.1f')\n",
    "ax.bar_label(b2, fmt='%.1f')\n",
    "ax.bar_label(b3, fmt='%.1f')\n",
    "ax.bar_label(b4, fmt='%.1f')\n",
    "ax.bar_label(b5, fmt='%.1f')\n",
    "\n",
    "plt.title( \"Average time (in seconds) for solving the extended EU model\\nwith the geographical temporal resolution\")\n",
    "\n",
    "plt.xticks([0, 1, 2, 3, 4], ['no SU/SD', 'compact\\ncheap', 'full\\ncheap', 'compact\\nexpensive', 'full\\nexpensive'])\n",
    "plt.xlabel(\"SU/SD constraints and costs\")\n",
    "plt.ylabel(\"Average model runtime [s]\")\n"
   ]
  },
  {
   "cell_type": "code",
   "execution_count": null,
   "id": "bf436e8c",
   "metadata": {},
   "outputs": [],
   "source": []
  }
 ],
 "metadata": {
  "kernelspec": {
   "display_name": "Python 3 (ipykernel)",
   "language": "python",
   "name": "python3"
  },
  "language_info": {
   "codemirror_mode": {
    "name": "ipython",
    "version": 3
   },
   "file_extension": ".py",
   "mimetype": "text/x-python",
   "name": "python",
   "nbconvert_exporter": "python",
   "pygments_lexer": "ipython3",
   "version": "3.11.4"
  }
 },
 "nbformat": 4,
 "nbformat_minor": 5
}
