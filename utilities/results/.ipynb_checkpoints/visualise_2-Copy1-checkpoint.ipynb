{
 "cells": [
  {
   "cell_type": "code",
   "execution_count": 1,
   "id": "0993d31f",
   "metadata": {},
   "outputs": [],
   "source": [
    "import matplotlib.pyplot as plt\n",
    "import numpy as np\n",
    "import json"
   ]
  },
  {
   "cell_type": "code",
   "execution_count": 2,
   "id": "61850411",
   "metadata": {},
   "outputs": [],
   "source": [
    "case_studies = ['10-rps-uniform-2h-noUC', '10-rps-uniform-2h-eq7UC', '10-rps-uniform-2h-eq9UC', '10-rps-uniform-4h-noUC', '10-rps-uniform-4h-eq7UC', '10-rps-uniform-4h-eq9UC']"
   ]
  },
  {
   "cell_type": "code",
   "execution_count": 3,
   "id": "a322a900",
   "metadata": {},
   "outputs": [],
   "source": [
    "input_file = open ('output.json')\n",
    "json_array = json.load(input_file)\n",
    "\n",
    "# json_array"
   ]
  },
  {
   "cell_type": "code",
   "execution_count": 4,
   "id": "57e2696e-9655-42a1-8d4e-5324ba14c96b",
   "metadata": {},
   "outputs": [],
   "source": [
    "stripped_data = json_array[1][0][1]['data']\n",
    "# stripped_data"
   ]
  },
  {
   "cell_type": "code",
   "execution_count": 5,
   "id": "3fe5f9ac-6649-4ad8-a2a7-7c55045b8acf",
   "metadata": {},
   "outputs": [],
   "source": [
    "# for key in stripped_data:\n",
    "#     print(key)\n",
    "#     print(stripped_data[key], '\\n')"
   ]
  },
  {
   "cell_type": "code",
   "execution_count": 6,
   "id": "b9a389a7-c13f-4850-9c3a-03b3250a4903",
   "metadata": {},
   "outputs": [],
   "source": [
    "run_model = stripped_data['run_model'][1]['data']\n",
    "\n",
    "# run_model"
   ]
  },
  {
   "cell_type": "code",
   "execution_count": 7,
   "id": "9cda260f-9d13-4a3c-a45d-9e8779823202",
   "metadata": {},
   "outputs": [],
   "source": [
    "uc_run_model = run_model['10-rps-uniform-2h-noUC']\n",
    "su_sd_run_model = run_model['10-rps-uniform-2h-eq7UC']\n",
    "\n",
    "# uc_run_model"
   ]
  },
  {
   "cell_type": "code",
   "execution_count": 8,
   "id": "754cedb8-d648-4fb6-8aa4-a459df7ff3bc",
   "metadata": {},
   "outputs": [],
   "source": [
    "uc_times_run_model = uc_run_model[1]['times']\n",
    "su_sd_times_run_model = su_sd_run_model[1]['times']\n",
    "\n",
    "# uc_times_run_model"
   ]
  },
  {
   "cell_type": "code",
   "execution_count": 9,
   "id": "74a30ef1-4d09-4b95-b523-0dd5d31975a6",
   "metadata": {},
   "outputs": [
    {
     "name": "stdout",
     "output_type": "stream",
     "text": [
      "222.50728416\n"
     ]
    }
   ],
   "source": [
    "uc_avg_run_model = np.average(uc_times_run_model)/1e9\n",
    "\n",
    "print(uc_avg_run_model)"
   ]
  },
  {
   "cell_type": "code",
   "execution_count": 10,
   "id": "a3d6db81",
   "metadata": {},
   "outputs": [],
   "source": [
    "# run_model['10-rps-uniform-6h-noUC'][1]['times'] = [4.35579109e10,4.41110743e10,4.32813077e10,4.43408724e10,4.37103937e10]\n",
    "# run_model['10-rps-uniform-6h-eq7UC'][1]['times'] = [3.37390105e10,3.36239292e10,3.37242486e10,3.36172092e10,3.43501116e10]\n",
    "# run_model['10-rps-uniform-6h-eq9UC'][1]['times'] = [1.710378002e11,1.719458987e11,1.712222378e11,1.707432754e11,1.711486115e11]"
   ]
  },
  {
   "cell_type": "code",
   "execution_count": 11,
   "id": "97115597",
   "metadata": {},
   "outputs": [],
   "source": [
    "avg1 = np.mean([4.35579109e10,4.41110743e10,4.32813077e10,4.43408724e10,4.37103937e10]) / 1e9\n",
    "avg2 = np.mean([3.37390105e10,3.36239292e10,3.37242486e10,3.36172092e10,3.43501116e10]) / 1e9\n",
    "avg3 = np.mean([1.710378002e11,1.719458987e11,1.712222378e11,1.707432754e11,1.711486115e11]) / 1e9"
   ]
  },
  {
   "cell_type": "code",
   "execution_count": 12,
   "id": "d14a64d2",
   "metadata": {},
   "outputs": [],
   "source": [
    "run_model_times = np.array([run_model[case_study][1]['times'] for case_study in case_studies])"
   ]
  },
  {
   "cell_type": "code",
   "execution_count": 13,
   "id": "9b6480b8",
   "metadata": {},
   "outputs": [],
   "source": [
    "case_studies = [*case_studies, '10-rps-uniform-6h-noUC', '10-rps-uniform-6h-eq7UC', '10-rps-uniform-6h-eq9UC']"
   ]
  },
  {
   "cell_type": "code",
   "execution_count": 14,
   "id": "38f11459",
   "metadata": {},
   "outputs": [
    {
     "data": {
      "text/plain": [
       "array([[1.74199039e+11, 2.31979572e+11, 2.34342340e+11, 2.36028076e+11,\n",
       "        2.35987394e+11],\n",
       "       [1.80057148e+11, 1.83519930e+11, 1.84795892e+11, 1.83078004e+11,\n",
       "        1.85307980e+11],\n",
       "       [1.43578815e+12, 8.88390186e+11, 9.84028587e+11, 9.87564206e+11,\n",
       "        9.89045898e+11],\n",
       "       [6.54725486e+10, 6.61731678e+10, 6.51281401e+10, 6.54821532e+10,\n",
       "        6.58184981e+10],\n",
       "       [7.38956484e+10, 7.33203876e+10, 7.28030166e+10, 7.17050020e+10,\n",
       "        7.25237505e+10],\n",
       "       [3.19540427e+11, 3.14567713e+11, 3.15596446e+11, 3.14067898e+11,\n",
       "        3.18739342e+11]])"
      ]
     },
     "execution_count": 14,
     "metadata": {},
     "output_type": "execute_result"
    }
   ],
   "source": [
    "run_model_times"
   ]
  },
  {
   "cell_type": "code",
   "execution_count": 15,
   "id": "c4669947",
   "metadata": {},
   "outputs": [
    {
     "data": {
      "text/plain": [
       "array([ 222.50728416,  183.35179082, 1056.96340534,   65.61490156,\n",
       "         72.84956103,  316.50236538])"
      ]
     },
     "execution_count": 15,
     "metadata": {},
     "output_type": "execute_result"
    }
   ],
   "source": [
    "run_model_means = np.mean(run_model_times, axis=1) / (1e9)\n",
    "run_model_means"
   ]
  },
  {
   "cell_type": "code",
   "execution_count": 16,
   "id": "d6d30e99",
   "metadata": {},
   "outputs": [],
   "source": [
    "run_model_means = np.append(run_model_means, [avg1, avg2, avg3])"
   ]
  },
  {
   "cell_type": "code",
   "execution_count": 17,
   "id": "73b99029",
   "metadata": {},
   "outputs": [
    {
     "data": {
      "text/plain": [
       "array([ 222.50728416,  183.35179082, 1056.96340534,   65.61490156,\n",
       "         72.84956103,  316.50236538,   43.8003118 ,   33.81090182,\n",
       "        171.21956472])"
      ]
     },
     "execution_count": 17,
     "metadata": {},
     "output_type": "execute_result"
    }
   ],
   "source": [
    "run_model_means"
   ]
  },
  {
   "cell_type": "code",
   "execution_count": 18,
   "id": "54ac6144-8dd6-402b-9f65-335cd35a1c6a",
   "metadata": {},
   "outputs": [],
   "source": [
    "# create_model = stripped_data['create_model'][1]['data']\n",
    "\n",
    "# uc_create_model = create_model['10-rps-uniform-2h-noUC']\n",
    "# su_sd_create_model = create_model['10-rps-uniform-2h-eq7UC']\n",
    "\n",
    "# uc_times_create_model = uc_create_model[1]['times']\n",
    "# su_sd_times_create_model = su_sd_create_model[1]['times']"
   ]
  },
  {
   "cell_type": "code",
   "execution_count": 19,
   "id": "8f9a12a6",
   "metadata": {},
   "outputs": [],
   "source": [
    "# create_model_times = np.array([create_model[case_study][1]['times'] for case_study in case_studies])"
   ]
  },
  {
   "cell_type": "code",
   "execution_count": 20,
   "id": "6cda6179",
   "metadata": {},
   "outputs": [],
   "source": [
    "# create_model_times"
   ]
  },
  {
   "cell_type": "code",
   "execution_count": 21,
   "id": "775ace00",
   "metadata": {},
   "outputs": [],
   "source": [
    "# create_model_means = np.mean(create_model_times, axis=1) / (1e9)"
   ]
  },
  {
   "cell_type": "code",
   "execution_count": 22,
   "id": "b1c532e2",
   "metadata": {},
   "outputs": [],
   "source": [
    "# create_model_means"
   ]
  },
  {
   "cell_type": "code",
   "execution_count": 23,
   "id": "cb4bbd41-2055-41d1-8f14-4314e64ea63a",
   "metadata": {},
   "outputs": [],
   "source": [
    "# ticks = range(len(uc_times_create_model))\n",
    "# plt.xticks(ticks)\n",
    "\n",
    "# plt.plot(uc_times_run_model, label = \"UC run\")\n",
    "# plt.plot(uc_times_create_model, label = \"UC create\")\n",
    "# plt.plot(su_sd_times_run_model, label = \"SU-SD run\")\n",
    "# plt.plot(su_sd_times_create_model, label = \"SU-SD create\")\n",
    "\n",
    "# plt.xlabel(\"Run number\")\n",
    "# plt.ylabel(\"Time (s)\")\n",
    "# plt.legend()\n",
    "\n",
    "# plt.show()"
   ]
  },
  {
   "cell_type": "code",
   "execution_count": 24,
   "id": "6da54bc4",
   "metadata": {},
   "outputs": [
    {
     "data": {
      "text/plain": [
       "['10-rps-uniform-2h-noUC',\n",
       " '10-rps-uniform-2h-eq7UC',\n",
       " '10-rps-uniform-2h-eq9UC',\n",
       " '10-rps-uniform-4h-noUC',\n",
       " '10-rps-uniform-4h-eq7UC',\n",
       " '10-rps-uniform-4h-eq9UC',\n",
       " '10-rps-uniform-6h-noUC',\n",
       " '10-rps-uniform-6h-eq7UC',\n",
       " '10-rps-uniform-6h-eq9UC']"
      ]
     },
     "execution_count": 24,
     "metadata": {},
     "output_type": "execute_result"
    }
   ],
   "source": [
    "case_studies"
   ]
  },
  {
   "cell_type": "code",
   "execution_count": 25,
   "id": "093802aa",
   "metadata": {},
   "outputs": [
    {
     "data": {
      "text/plain": [
       "array([ 222.50728416,  183.35179082, 1056.96340534,   65.61490156,\n",
       "         72.84956103,  316.50236538,   43.8003118 ,   33.81090182,\n",
       "        171.21956472])"
      ]
     },
     "execution_count": 25,
     "metadata": {},
     "output_type": "execute_result"
    }
   ],
   "source": [
    "run_model_means"
   ]
  },
  {
   "cell_type": "code",
   "execution_count": 26,
   "id": "5293d39d",
   "metadata": {},
   "outputs": [],
   "source": [
    "case_studies_labels = ['noUC', 'eq7UC', '9UC', 'noUC', 'eq7UC', 'eq9UC']"
   ]
  },
  {
   "cell_type": "code",
   "execution_count": 27,
   "id": "c8440d76",
   "metadata": {},
   "outputs": [],
   "source": [
    "objective_values = [4.705879153523034e11, 4.705837752905728e11, 4.70584136617439e11, 4.669855539080964e11, 4.6697735677232733e11, 4.6698504097514044e11, 4.250391948119547e11, 4.250128374928639e11, 4.250386968757886e11]"
   ]
  },
  {
   "cell_type": "code",
   "execution_count": 61,
   "id": "802c89cb",
   "metadata": {},
   "outputs": [
    {
     "data": {
      "text/plain": [
       "<matplotlib.legend.Legend at 0x1ba86a85250>"
      ]
     },
     "execution_count": 61,
     "metadata": {},
     "output_type": "execute_result"
    },
    {
     "data": {
      "image/png": "[encoded data removed]",
      "text/plain": [
       "<Figure size 640x480 with 2 Axes>"
      ]
     },
     "metadata": {},
     "output_type": "display_data"
    }
   ],
   "source": [
    "width = 0.2\n",
    "x = np.arange(len(case_studies) / 3)\n",
    "\n",
    "fig, ax = plt.subplots()\n",
    "\n",
    "bar1 = ax.bar(x - width, run_model_means[0::3], width, label='No SU/SD')\n",
    "bar2 = ax.bar(x, run_model_means[1::3], width, label='Tight SU/SD')\n",
    "bar3 = ax.bar(x + width, run_model_means[2::3], width, label='Relaxed SU/SD')\n",
    "\n",
    "\n",
    "ax.legend()\n",
    "\n",
    "#setting bar labels\n",
    "ax.bar_label(bar1, fmt='%.1f')\n",
    "ax.bar_label(bar2, fmt='%.1f')\n",
    "ax.bar_label(bar3, fmt='%.1f')\n",
    "\n",
    "plt.title(\"Time to solve the Tulipa energy model per case study\")\n",
    "plt.ylabel(\"Model runtime [s]\")\n",
    "\n",
    "fig.tight_layout()\n",
    "\n",
    "ax.set_xticks(x, ['2h uniform resolution', '4h uniform resolution', '6h uniform resolution'])\n",
    "\n",
    "########################################################################\n",
    "\n",
    "ax2 = ax.twinx()\n",
    "ax2.set_ylabel(\"Objective function value [1e11 EUR]\", color='tab:red')\n",
    "ax2.tick_params(axis='y', labelcolor='tab:red')\n",
    "\n",
    "min_obj = min(objective_values)\n",
    "max_obj = max(objective_values)\n",
    "\n",
    "# Add a small margin to the min and max\n",
    "margin = (max_obj - min_obj) * 1  # 10% padding\n",
    "\n",
    "ax2.set_ylim(min_obj - margin, max_obj + margin)\n",
    "\n",
    "\n",
    "# Plot objective values as lines + markers\n",
    "offsets = [-width, 0, width]\n",
    "labels = ['No SU/SD', 'Tight SU/SD', 'Relaxed SU/SD']\n",
    "colors = ['#168FD899', '#DC740E99', '#75B76C99']\n",
    "\n",
    "for i in range(3):\n",
    "    obj_vals = objective_values[i::3]  # Every third starting at i\n",
    "    ax2.scatter(x + offsets[i], obj_vals, label=f'{labels[i]} Obj', color=colors[i], edgecolors='black')\n",
    "\n",
    "# Combine legends from both axes\n",
    "lines1, labels1 = ax.get_legend_handles_labels()\n",
    "lines2, labels2 = ax2.get_legend_handles_labels()\n",
    "ax.legend(lines1 + lines2, labels1 + labels2, loc='upper right')\n",
    "# bar2 = ax.bar(['d', 'e', 'f'], run_model_means[3:], label='two')"
   ]
  },
  {
   "cell_type": "code",
   "execution_count": 29,
   "id": "91e9bbd5",
   "metadata": {},
   "outputs": [],
   "source": [
    "# plt.bar(case_studies, run_model_means)\n",
    "# # case_studies = ['10-rps-uniform-2h-noUC', '10-rps-uniform-2h-eq7UC', '10-rps-uniform-2h-eq9UC', '10-rps-uniform-4h-noUC', '10-rps-uniform-4h-eq7UC', '10-rps-uniform-4h-eq9UC']"
   ]
  },
  {
   "cell_type": "code",
   "execution_count": 30,
   "id": "41009e68",
   "metadata": {},
   "outputs": [],
   "source": [
    "# width = 0.3\n",
    "# x = np.arange(len(case_studies) / 3)\n",
    "\n",
    "# fig, ax = plt.subplots()\n",
    "\n",
    "# bar1 = ax.bar(x - width, create_model_means[0::3], width, label='noUC')\n",
    "# bar2 = ax.bar(x, create_model_means[1::3], width, label='eq7UC')\n",
    "# bar3 = ax.bar(x + width, create_model_means[2::3], width, label='eq9UC')\n",
    "\n",
    "\n",
    "# ax.legend()\n",
    "\n",
    "# #setting bar labels\n",
    "# ax.bar_label(bar1, fmt='%.2f')\n",
    "# ax.bar_label(bar2, fmt='%.2f')\n",
    "# ax.bar_label(bar3, fmt='%.2f')\n",
    "\n",
    "# plt.title(\"Model runtimes\")\n",
    "# plt.ylabel(\"Time [s]\")\n",
    "\n",
    "# ax.set_xticks(x, ['2h uniform', '4h uniform'])"
   ]
  },
  {
   "cell_type": "code",
   "execution_count": null,
   "id": "ef8dcf84",
   "metadata": {},
   "outputs": [],
   "source": []
  }
 ],
 "metadata": {
  "kernelspec": {
   "display_name": "Python 3 (ipykernel)",
   "language": "python",
   "name": "python3"
  },
  "language_info": {
   "codemirror_mode": {
    "name": "ipython",
    "version": 3
   },
   "file_extension": ".py",
   "mimetype": "text/x-python",
   "name": "python",
   "nbconvert_exporter": "python",
   "pygments_lexer": "ipython3",
   "version": "3.11.4"
  }
 },
 "nbformat": 4,
 "nbformat_minor": 5
}
