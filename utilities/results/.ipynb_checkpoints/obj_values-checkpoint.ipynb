{
 "cells": [
  {
   "cell_type": "code",
   "execution_count": 1,
   "id": "b5a4b3f7",
   "metadata": {},
   "outputs": [],
   "source": [
    "import numpy as np\n",
    "from matplotlib import pyplot as plt\n",
    "\n",
    "from matplotlib.lines import Line2D\n",
    "\n",
    "\n",
    "import json"
   ]
  },
  {
   "cell_type": "code",
   "execution_count": 2,
   "id": "655b8231",
   "metadata": {},
   "outputs": [],
   "source": [
    "results_base_dir = \"results-appendix-15/\"\n",
    "# results_base_dir = \"results_randseed_geo_only/\""
   ]
  },
  {
   "cell_type": "code",
   "execution_count": 3,
   "id": "78367f78",
   "metadata": {},
   "outputs": [],
   "source": [
    "# case_studies = [\n",
    "#     \"1h-none-noSUSD\",\n",
    "#     \"1h-cheap-relaxedSUSD\",\n",
    "#     \"1h-cheap-tightSUSD\",\n",
    "#     \"1h-expensive-relaxedSUSD\",\n",
    "#     \"1h-expensive-tightSUSD\",\n",
    "#     \"2h-none-noSUSD\",\n",
    "#     \"2h-cheap-relaxedSUSD\",\n",
    "#     \"2h-cheap-tightSUSD\",\n",
    "#     \"2h-expensive-relaxedSUSD\",\n",
    "#     \"2h-expensive-tightSUSD\",\n",
    "#     \"3h-none-noSUSD\",\n",
    "#     \"3h-cheap-relaxedSUSD\",\n",
    "#     \"3h-cheap-tightSUSD\",\n",
    "#     \"3h-expensive-relaxedSUSD\",\n",
    "#     \"3h-expensive-tightSUSD\",\n",
    "#     \"4h-none-noSUSD\",\n",
    "#     \"4h-cheap-relaxedSUSD\",\n",
    "#     \"4h-cheap-tightSUSD\",\n",
    "#     \"4h-expensive-relaxedSUSD\",\n",
    "#     \"4h-expensive-tightSUSD\",\n",
    "#     \"5h-none-noSUSD\",\n",
    "#     \"5h-cheap-relaxedSUSD\",\n",
    "#     \"5h-cheap-tightSUSD\",\n",
    "#     \"5h-expensive-relaxedSUSD\",\n",
    "#     \"5h-expensive-tightSUSD\",\n",
    "#     \"geographical-none-noSUSD\",\n",
    "#     \"geographical-cheap-relaxedSUSD\",\n",
    "#     \"geographical-cheap-tightSUSD\",\n",
    "#     \"geographical-expensive-relaxedSUSD\",\n",
    "#     \"geographical-expensive-tightSUSD\",\n",
    "# ]\n",
    "\n",
    "case_studies = [\n",
    "    \"1h-none-noSUSD\",\n",
    "    \"1h-expensive-relaxedSUSD\",\n",
    "    \"1h-expensive-tightSUSD\",\n",
    "    \"2h-none-noSUSD\",\n",
    "    \"2h-expensive-relaxedSUSD\",\n",
    "    \"2h-expensive-tightSUSD\",\n",
    "    \"3h-none-noSUSD\",\n",
    "    \"3h-expensive-relaxedSUSD\",\n",
    "    \"3h-expensive-tightSUSD\",\n",
    "    \"4h-none-noSUSD\",\n",
    "    \"4h-expensive-relaxedSUSD\",\n",
    "    \"4h-expensive-tightSUSD\",\n",
    "    \"5h-none-noSUSD\",\n",
    "    \"5h-expensive-relaxedSUSD\",\n",
    "    \"5h-expensive-tightSUSD\",\n",
    "    \"geographical-none-noSUSD\",\n",
    "    \"geographical-expensive-relaxedSUSD\",\n",
    "    \"geographical-expensive-tightSUSD\",\n",
    "]\n",
    "\n",
    "# case_studies = [\n",
    "#     \"geographical-none-noSUSD\",\n",
    "#     \"geographical-cheap-relaxedSUSD\",\n",
    "#     \"geographical-cheap-tightSUSD\",\n",
    "#     \"geographical-expensive-relaxedSUSD\",\n",
    "#     \"geographical-expensive-tightSUSD\",\n",
    "# ]"
   ]
  },
  {
   "cell_type": "code",
   "execution_count": 4,
   "id": "70ccc81d",
   "metadata": {},
   "outputs": [],
   "source": [
    "def pareto_front(points):\n",
    "    is_pareto = np.ones(points.shape[0], dtype=bool)\n",
    "    for i, c in enumerate(points):\n",
    "        if is_pareto[i]:\n",
    "            is_pareto[is_pareto] = np.any(points[is_pareto] < c, axis=1) | np.all(points[is_pareto] == c, axis=1)\n",
    "            is_pareto[i] = True  # Keep current point\n",
    "    return points[is_pareto]"
   ]
  },
  {
   "cell_type": "code",
   "execution_count": 5,
   "id": "e936a171",
   "metadata": {},
   "outputs": [],
   "source": [
    "# total_costs = []\n",
    "# total_costs_nl = []\n",
    "# op_costs_nl = []\n",
    "# total_costs_non_nl = []\n",
    "# op_costs_non_nl = []\n",
    "\n",
    "# for case_study in case_studies:\n",
    "#     with open(results_base_dir + case_study + \"/\" + \"objective_value.txt\", 'r') as file:\n",
    "#         for line in file:\n",
    "#             line_split = line.split(';')\n",
    "\n",
    "#             total_costs.append(float(line_split[0]))\n",
    "#             total_costs_nl.append(float(line_split[1]))\n",
    "#             op_costs_nl.append(float(line_split[2]))\n",
    "#             total_costs_non_nl.append(float(line_split[3]))\n",
    "#             op_costs_non_nl.append(float(line_split[4]))\n",
    "\n",
    "\n",
    "# # total_costs"
   ]
  },
  {
   "cell_type": "code",
   "execution_count": 6,
   "id": "c1559fef",
   "metadata": {},
   "outputs": [],
   "source": [
    "total_costs = []\n",
    "total_costs_nl = []\n",
    "op_costs_nl = []\n",
    "total_costs_non_nl = []\n",
    "op_costs_non_nl = []\n",
    "\n",
    "for case_study in case_studies:\n",
    "    total_costs_temp = []\n",
    "    total_costs_nl_temp = []\n",
    "    with open(results_base_dir + case_study + \"/\" + \"objective_value.txt\", 'r') as file:\n",
    "        for line in file:\n",
    "            line_split = line.split(';')\n",
    "\n",
    "            total_costs_temp.append(float(line_split[0]))\n",
    "            total_costs_nl_temp.append(float(line_split[1]))\n",
    "#             op_costs_nl.append(float(line_split[2]))\n",
    "#             total_costs_non_nl.append(float(line_split[3]))\n",
    "#             op_costs_non_nl.append(float(line_split[4]))\n",
    "\n",
    "        total_costs.append(total_costs_temp)\n",
    "        total_costs_nl.append(total_costs_nl_temp)\n",
    "\n",
    "\n",
    "# total_costs"
   ]
  },
  {
   "cell_type": "code",
   "execution_count": 7,
   "id": "cabe3338",
   "metadata": {},
   "outputs": [],
   "source": [
    "total_costs_np_array = np.array(total_costs)\n",
    "total_costs_means = np.mean(total_costs_np_array, axis=1)\n",
    "\n",
    "total_costs_nl_np_array = np.array(total_costs_nl)\n",
    "total_costs_nl_means = np.mean(total_costs_nl_np_array, axis=1)"
   ]
  },
  {
   "cell_type": "code",
   "execution_count": 8,
   "id": "a93b8851",
   "metadata": {},
   "outputs": [],
   "source": [
    "input_file = open ('output.json')\n",
    "json_array = json.load(input_file)\n",
    "\n",
    "stripped_data = json_array[1][0][1]['data']\n",
    "run_model = stripped_data['run_model'][1]['data']\n",
    "run_model_times = np.array([run_model[case_study][1]['times'] for case_study in case_studies])\n",
    "\n",
    "run_model_means = np.mean(run_model_times, axis=1) / (1e9)\n",
    "# run_model_means"
   ]
  },
  {
   "cell_type": "code",
   "execution_count": 9,
   "id": "398fb47c",
   "metadata": {},
   "outputs": [
    {
     "name": "stdout",
     "output_type": "stream",
     "text": [
      "[0, 1, 2, 3, 4, 5, 6, 7, 8, 9, 10, 11, 12, 13, 14, 15, 16, 17]\n"
     ]
    },
    {
     "data": {
      "text/plain": [
       "array(['1h-none-noSUSD', '1h-expensive-relaxedSUSD',\n",
       "       '1h-expensive-tightSUSD', '2h-none-noSUSD',\n",
       "       '2h-expensive-relaxedSUSD', '2h-expensive-tightSUSD',\n",
       "       '3h-none-noSUSD', '3h-expensive-relaxedSUSD',\n",
       "       '3h-expensive-tightSUSD', '4h-none-noSUSD',\n",
       "       '4h-expensive-relaxedSUSD', '4h-expensive-tightSUSD',\n",
       "       '5h-none-noSUSD', '5h-expensive-relaxedSUSD',\n",
       "       '5h-expensive-tightSUSD', 'geographical-none-noSUSD',\n",
       "       'geographical-expensive-relaxedSUSD',\n",
       "       'geographical-expensive-tightSUSD'], dtype='<U34')"
      ]
     },
     "execution_count": 9,
     "metadata": {},
     "output_type": "execute_result"
    }
   ],
   "source": [
    "expensive_case_studies = [x for x in case_studies if 'expensive' in x or 'none' in x]\n",
    "expensive_case_studies_indices = [i for i in range(len(case_studies)) if case_studies[i] in expensive_case_studies]\n",
    "\n",
    "print(expensive_case_studies_indices)\n",
    "\n",
    "expensive_case_studies = np.array(case_studies)[expensive_case_studies_indices]\n",
    "expensive_case_studies"
   ]
  },
  {
   "cell_type": "markdown",
   "id": "642e91fe",
   "metadata": {},
   "source": [
    "### PLOT NO_SU/SD AND TIGHT AND RELAXED FOR EXPENSIVE CASE, AGAINST THEIR OBJECTIVE VALUES\n",
    "### DO THE SAME FOR THE CHEAP CASE\n",
    "\n",
    "### REPEAT BOTH FOR JUST NL COMPARED TO ENTIRE SYSTEM"
   ]
  },
  {
   "cell_type": "code",
   "execution_count": 10,
   "id": "cd29f5c8",
   "metadata": {},
   "outputs": [
    {
     "data": {
      "text/plain": [
       "<matplotlib.collections.PathCollection at 0x20595d85c90>"
      ]
     },
     "execution_count": 10,
     "metadata": {},
     "output_type": "execute_result"
    },
    {
     "data": {
      "image/png": "[encoded data removed]",
      "text/plain": [
       "<Figure size 640x480 with 1 Axes>"
      ]
     },
     "metadata": {},
     "output_type": "display_data"
    }
   ],
   "source": [
    "plt.scatter(run_model_means[expensive_case_studies_indices], np.array(total_costs)[expensive_case_studies_indices])"
   ]
  },
  {
   "cell_type": "code",
   "execution_count": 11,
   "id": "45e12f0e",
   "metadata": {},
   "outputs": [],
   "source": [
    "# economic_cases = ['none', 'cheap', 'expensive']\n",
    "economic_cases = ['none', 'expensive']\n",
    "\n",
    "temporal_resolutions = ['1h', '2h', '3h', '4h', '5h', 'geographical']\n",
    "constraint_cases = ['none', 'tight', 'relaxed']"
   ]
  },
  {
   "cell_type": "code",
   "execution_count": 12,
   "id": "9aa467e5",
   "metadata": {},
   "outputs": [],
   "source": [
    "colours = ['red', 'blue', 'green', 'brown', 'pink', 'orange']"
   ]
  },
  {
   "cell_type": "code",
   "execution_count": 13,
   "id": "9bb11b5f",
   "metadata": {},
   "outputs": [],
   "source": [
    "def plot_cost_vs_time(total_costs, title, economic_case='expensive', is_NL_only=False):\n",
    "    \n",
    "    plt.rcParams.update({'font.size': 10})\n",
    "    \n",
    "    fig, ax = plt.subplots()\n",
    "    \n",
    "    all_points = []\n",
    "    \n",
    "    all_points_with_geo = []\n",
    "\n",
    "    for (temporal_res, colour) in zip(temporal_resolutions, colours):\n",
    "        noSUSD_index = case_studies.index(f\"{temporal_res}-none-noSUSD\")\n",
    "        tight_index = case_studies.index(f\"{temporal_res}-{economic_case}-tightSUSD\")\n",
    "        relaxed_index = case_studies.index(f\"{temporal_res}-{economic_case}-relaxedSUSD\")\n",
    "\n",
    "        ax.scatter(run_model_means[noSUSD_index], total_costs[noSUSD_index], color=colour, marker=\"o\", s=80, edgecolors='black', linewidths=0.8, alpha=0.7)\n",
    "        ax.scatter(run_model_means[tight_index], total_costs[tight_index], color=colour, marker=\"^\", s=80, edgecolors='black', linewidths=0.8, alpha=0.7)\n",
    "        ax.scatter(run_model_means[relaxed_index], total_costs[relaxed_index], color=colour, marker=\"X\", s=80, edgecolors='black', linewidths=0.8, alpha=0.7)\n",
    "        \n",
    "        if is_NL_only:\n",
    "            all_points_with_geo.append([run_model_means[noSUSD_index], total_costs[noSUSD_index]])\n",
    "            all_points_with_geo.append([run_model_means[tight_index], total_costs[tight_index]])\n",
    "            all_points_with_geo.append([run_model_means[relaxed_index], total_costs[relaxed_index]])\n",
    "        \n",
    "        if is_NL_only and 'geographical' in temporal_res:\n",
    "            continue\n",
    "        else:\n",
    "            all_points.append([run_model_means[noSUSD_index], total_costs[noSUSD_index]])\n",
    "            all_points.append([run_model_means[tight_index], total_costs[tight_index]])\n",
    "            all_points.append([run_model_means[relaxed_index], total_costs[relaxed_index]])\n",
    "        \n",
    "    all_points = np.array(all_points)\n",
    "    pareto_points = pareto_front(all_points)\n",
    "    pareto_points = pareto_points[np.argsort(pareto_points[:, 0])]\n",
    "    plt.plot(pareto_points[:, 0], pareto_points[:, 1], 'r:.',linewidth=1, markersize=5, markerfacecolor=\"white\", markeredgewidth=0,  label='Pareto Front')\n",
    "    \n",
    "    if is_NL_only:\n",
    "        all_points_with_geo = np.array(all_points_with_geo)\n",
    "        geo_pareto_points = pareto_front(all_points_with_geo)\n",
    "        geo_pareto_points = geo_pareto_points[np.argsort(geo_pareto_points[:, 0])]\n",
    "        plt.plot(geo_pareto_points[:, 0], geo_pareto_points[:, 1], 'b:.',linewidth=1, markersize=5, markerfacecolor=\"white\", markeredgewidth=0,  label='Pareto Front')\n",
    "\n",
    "\n",
    "\n",
    "    legend1 = ax.legend(handles=[\n",
    "        Line2D([0], [0], marker='s', color='w', label='1h', markerfacecolor='red', markersize=8),\n",
    "        Line2D([0], [0], marker='s', color='w', label='2h', markerfacecolor='blue', markersize=8),\n",
    "        Line2D([0], [0], marker='s', color='w', label='3h', markerfacecolor='green', markersize=8),\n",
    "        Line2D([0], [0], marker='s', color='w', label='4h', markerfacecolor='brown', markersize=8),\n",
    "        Line2D([0], [0], marker='s', color='w', label='5h', markerfacecolor='pink', markersize=8),\n",
    "        Line2D([0], [0], marker='s', color='w', label='Geographical', markerfacecolor='orange', markersize=8),\n",
    "    ], title='Temporal resolution', loc='center right')\n",
    "\n",
    "    ax.add_artist(legend1)\n",
    "    \n",
    "    pareto_handle = Line2D(\n",
    "        [0, 1, 2, 3], [0, 0, 0, 0],\n",
    "        color='red',\n",
    "        linestyle=':',\n",
    "        marker='o',\n",
    "        markerfacecolor='white',\n",
    "        markeredgecolor='red',\n",
    "        markeredgewidth=1,\n",
    "        markersize=5,\n",
    "        label= \"Without geographical\" if is_NL_only else None\n",
    "    )\n",
    "    \n",
    "    legend2 = ax.legend(handles=[\n",
    "        Line2D([0], [0], marker='o', color='w', label='No SU/SD costs', markerfacecolor='black', markersize=8),\n",
    "        Line2D([0], [0], marker='X', color='w', label='Compact constraints', markerfacecolor='black', markersize=8),\n",
    "        Line2D([0], [0], marker='^', color='w', label='Full constraints', markerfacecolor='black', markersize=8),\n",
    "    ], title='SU/SD constraints', loc='upper right')\n",
    "    \n",
    "    ax.add_artist(legend2)\n",
    "    \n",
    "    \n",
    "    \n",
    "    pareto_front_label_handles = [pareto_handle]\n",
    "    \n",
    "    if is_NL_only:\n",
    "        geo_pareto_handle = Line2D(\n",
    "        [0, 1, 2, 3], [0, 0, 0, 0],\n",
    "        color='blue',\n",
    "        linestyle=':',\n",
    "        marker='o',\n",
    "        markerfacecolor='white',\n",
    "        markeredgecolor='blue',\n",
    "        markeredgewidth=1,\n",
    "        markersize=5,\n",
    "        label=\"With geographical\"\n",
    "    )\n",
    "        pareto_front_label_handles.append(geo_pareto_handle)\n",
    "        \n",
    "    if is_NL_only:\n",
    "        plt.rcParams.update({'font.size': 8})\n",
    "    \n",
    "    legend3 = ax.legend(handles=pareto_front_label_handles, title=\"Pareto front\", loc=\"upper center\")\n",
    "    \n",
    "    plt.rcParams.update({'font.size': 10})\n",
    "    \n",
    "    plt.title(title)\n",
    "    plt.xlabel(\"Computation time [s]\")\n",
    "    plt.ylabel(\"Absolute percentage error\")\n",
    "\n",
    "    plt.tight_layout()\n",
    "    plt.show()"
   ]
  },
  {
   "cell_type": "code",
   "execution_count": null,
   "id": "e9270c9e",
   "metadata": {
    "scrolled": false
   },
   "outputs": [],
   "source": [
    "# plot_cost_vs_time(total_costs_errors, \"ACTUAL PARETO FRONT, TOTAL, EXPENSIVE\", is_NL_only=False)"
   ]
  },
  {
   "cell_type": "code",
   "execution_count": null,
   "id": "7ddc52bb",
   "metadata": {
    "scrolled": false
   },
   "outputs": [],
   "source": [
    "plot_cost_vs_time(total_costs, \"Total cost expensive\")"
   ]
  },
  {
   "cell_type": "code",
   "execution_count": null,
   "id": "1f68b134",
   "metadata": {},
   "outputs": [],
   "source": [
    "plot_cost_vs_time(total_costs_nl, \"NL cost expensive\")"
   ]
  },
  {
   "cell_type": "code",
   "execution_count": null,
   "id": "db2d3bf1",
   "metadata": {},
   "outputs": [],
   "source": [
    "plot_cost_vs_time(op_costs_nl, \"NL cost operational expensive\")"
   ]
  },
  {
   "cell_type": "code",
   "execution_count": null,
   "id": "d12f79ea",
   "metadata": {},
   "outputs": [],
   "source": [
    "total_costs"
   ]
  },
  {
   "cell_type": "code",
   "execution_count": null,
   "id": "2e5ba497",
   "metadata": {},
   "outputs": [],
   "source": [
    "diff_total_tight_expensive = []\n",
    "diff_total_relaxed_expensive = []\n",
    "\n",
    "diff_total_tight_cheap = []\n",
    "diff_total_relaxed_cheap = []\n",
    "\n",
    "diff_nl_tight_expensive = []\n",
    "diff_nl_relaxed_expensive = []\n",
    "\n",
    "diff_nl_tight_cheap = []\n",
    "diff_nl_relaxed_cheap = []"
   ]
  },
  {
   "cell_type": "code",
   "execution_count": null,
   "id": "24fde42e",
   "metadata": {},
   "outputs": [],
   "source": [
    "for temporal_res in temporal_resolutions:\n",
    "    noSUSD_index = case_studies.index(f\"{temporal_res}-none-noSUSD\")\n",
    "    tight_index = case_studies.index(f\"{temporal_res}-expensive-tightSUSD\")\n",
    "    relaxed_index = case_studies.index(f\"{temporal_res}-expensive-relaxedSUSD\")\n",
    "    \n",
    "    diff_total_tight_expensive.append(100 * (total_costs_means[tight_index] - total_costs_means[noSUSD_index]) / total_costs_means[noSUSD_index])\n",
    "    diff_total_relaxed_expensive.append(100 * (total_costs_means[relaxed_index] - total_costs_means[noSUSD_index]) / total_costs_means[noSUSD_index])\n",
    "    \n",
    "    diff_nl_tight_expensive.append(100 * (total_costs_nl_means[tight_index] - total_costs_nl_means[noSUSD_index]) / total_costs_nl_means[noSUSD_index])\n",
    "    diff_nl_relaxed_expensive.append(100 * (total_costs_nl_means[relaxed_index] - total_costs_nl_means[noSUSD_index]) / total_costs_nl_means[noSUSD_index])\n",
    "    \n",
    "#     noSUSD_index = case_studies.index(f\"{temporal_res}-none-noSUSD\")\n",
    "#     tight_index = case_studies.index(f\"{temporal_res}-cheap-tightSUSD\")\n",
    "#     relaxed_index = case_studies.index(f\"{temporal_res}-cheap-relaxedSUSD\")\n",
    "    \n",
    "#     diff_total_tight_cheap.append(100 * (total_costs[tight_index] - total_costs[noSUSD_index]) / total_costs[noSUSD_index])\n",
    "#     diff_total_relaxed_cheap.append(100 * (total_costs[relaxed_index] - total_costs[noSUSD_index]) / total_costs[noSUSD_index])\n",
    "    \n",
    "#     diff_nl_tight_cheap.append(100 * (total_costs_nl[tight_index] - total_costs_nl[noSUSD_index]) / total_costs_nl[noSUSD_index])\n",
    "#     diff_nl_relaxed_cheap.append(100 * (total_costs_nl[relaxed_index] - total_costs_nl[noSUSD_index]) / total_costs_nl[noSUSD_index])"
   ]
  },
  {
   "cell_type": "code",
   "execution_count": null,
   "id": "9fe57fe4",
   "metadata": {},
   "outputs": [],
   "source": [
    "plt.scatter(temporal_resolutions, diff_total_tight_expensive)\n",
    "plt.title(\"Percentage difference between case without SU/SD and with Tight SU/SD, expensive case, per temporal resolution\")\n",
    "\n",
    "plt.scatter(temporal_resolutions, diff_total_tight_cheap)\n",
    "# plt.scatter(temporal_resolutions, diff_total_relaxed_expensive)\n",
    "# plt.scatter(temporal_resolutions, diff_total_relaxed_cheap)"
   ]
  },
  {
   "cell_type": "code",
   "execution_count": null,
   "id": "ec362e77",
   "metadata": {},
   "outputs": [],
   "source": [
    "diff_total_tight_expensive"
   ]
  },
  {
   "cell_type": "code",
   "execution_count": null,
   "id": "082b4fe0",
   "metadata": {
    "scrolled": false
   },
   "outputs": [],
   "source": [
    "plt.scatter(temporal_resolutions, diff_total_relaxed_expensive)\n",
    "plt.title(\"Percentage difference between case without SU/SD and with Relaxed SU/SD, expensive case, per temporal resolution\")\n",
    "\n",
    "plt.scatter(temporal_resolutions, diff_total_tight_cheap)"
   ]
  },
  {
   "cell_type": "code",
   "execution_count": null,
   "id": "ca91abda",
   "metadata": {},
   "outputs": [],
   "source": [
    "diff_1h_total_tight_expensive = []\n",
    "diff_1h_total_relaxed_expensive = []\n",
    "\n",
    "diff_1h_total_tight_cheap = []\n",
    "diff_1h_total_relaxed_cheap = []"
   ]
  },
  {
   "cell_type": "code",
   "execution_count": null,
   "id": "8aee864e",
   "metadata": {},
   "outputs": [],
   "source": [
    "for temporal_res in temporal_resolutions:\n",
    "    noSUSD_index = case_studies.index(\"1h-none-noSUSD\")\n",
    "    tight_index = case_studies.index(f\"{temporal_res}-expensive-tightSUSD\")\n",
    "    relaxed_index = case_studies.index(f\"{temporal_res}-expensive-relaxedSUSD\")\n",
    "    \n",
    "    diff_1h_total_tight_expensive.append(100 * (total_costs[tight_index] - total_costs[noSUSD_index]) / total_costs[noSUSD_index])\n",
    "    diff_1h_total_relaxed_expensive.append(100 * (total_costs[relaxed_index] - total_costs[noSUSD_index]) / total_costs[noSUSD_index])\n",
    "    \n",
    "    noSUSD_index = case_studies.index(\"1h-none-noSUSD\")\n",
    "    tight_index = case_studies.index(f\"{temporal_res}-cheap-tightSUSD\")\n",
    "    relaxed_index = case_studies.index(f\"{temporal_res}-cheap-relaxedSUSD\")\n",
    "    \n",
    "    diff_1h_total_tight_cheap.append(100 * (total_costs[tight_index] - total_costs[noSUSD_index]) / total_costs[noSUSD_index])\n",
    "    diff_1h_total_relaxed_cheap.append(100 * (total_costs[relaxed_index] - total_costs[noSUSD_index]) / total_costs[noSUSD_index])"
   ]
  },
  {
   "cell_type": "code",
   "execution_count": null,
   "id": "c0276d93",
   "metadata": {},
   "outputs": [],
   "source": [
    "plt.scatter(temporal_resolutions, diff_1h_total_tight_expensive)\n",
    "plt.title(\"Percentage difference between 1h case with no su/sd and different resolutions with Tight SU/SD, expensive case, per temporal resolution\")\n",
    "\n",
    "plt.scatter(temporal_resolutions, diff_1h_total_tight_cheap)"
   ]
  },
  {
   "cell_type": "code",
   "execution_count": null,
   "id": "c4075d81",
   "metadata": {},
   "outputs": [],
   "source": [
    "diff_1h_total_tight_expensive"
   ]
  },
  {
   "cell_type": "code",
   "execution_count": null,
   "id": "a65d0b22",
   "metadata": {},
   "outputs": [],
   "source": [
    "plt.scatter(temporal_resolutions, diff_nl_relaxed_expensive)\n",
    "plt.title(\"Percentage difference between case without SU/SD and with Tight SU/SD, expensive case, per temporal resolution, NL ONLY\")\n",
    "\n",
    "plt.scatter(temporal_resolutions, diff_nl_relaxed_cheap)"
   ]
  },
  {
   "cell_type": "code",
   "execution_count": null,
   "id": "ef1f8180",
   "metadata": {},
   "outputs": [],
   "source": [
    "plt.scatter(temporal_resolutions, diff_total_relaxed_expensive, label=\"RELAXED\")\n",
    "# plt.title(\"Percentage difference between case without SU/SD and with Tight SU/SD, expensive case, per temporal resolution, NL ONLY\")\n",
    "\n",
    "# plt.scatter(temporal_resolutions, diff_total_relaxed_cheap)\n",
    "\n",
    "plt.scatter(temporal_resolutions, diff_total_tight_expensive)\n",
    "# plt.title(\"Percentage difference between case without SU/SD and with Tight SU/SD, expensive case, per temporal resolution, NL ONLY\")\n",
    "\n",
    "# plt.scatter(temporal_resolutions, diff_total_tight_cheap)\n",
    "\n",
    "plt.legend()"
   ]
  },
  {
   "cell_type": "code",
   "execution_count": null,
   "id": "e34f05b7",
   "metadata": {},
   "outputs": [],
   "source": [
    "diff_1h_nl_tight_expensive = []\n",
    "diff_1h_nl_relaxed_expensive = []\n",
    "\n",
    "diff_1h_nl_tight_cheap = []\n",
    "diff_1h_nl_relaxed_cheap = []"
   ]
  },
  {
   "cell_type": "code",
   "execution_count": null,
   "id": "1a6e91f6",
   "metadata": {},
   "outputs": [],
   "source": [
    "for temporal_res in temporal_resolutions:\n",
    "    noSUSD_index = case_studies.index(\"1h-none-noSUSD\")\n",
    "    tight_index = case_studies.index(f\"{temporal_res}-expensive-tightSUSD\")\n",
    "    relaxed_index = case_studies.index(f\"{temporal_res}-expensive-relaxedSUSD\")\n",
    "    \n",
    "    diff_1h_total_tight_expensive.append(100 * (total_costs_nl[tight_index] - total_costs_nl[noSUSD_index]) / total_costs_nl[noSUSD_index])\n",
    "    diff_1h_total_relaxed_expensive.append(100 * (total_costs_nl[relaxed_index] - total_costs_nl[noSUSD_index]) / total_costs_nl[noSUSD_index])\n",
    "    \n",
    "    noSUSD_index = case_studies.index(\"1h-none-noSUSD\")\n",
    "    tight_index = case_studies.index(f\"{temporal_res}-cheap-tightSUSD\")\n",
    "    relaxed_index = case_studies.index(f\"{temporal_res}-cheap-relaxedSUSD\")\n",
    "    \n",
    "    diff_1h_total_tight_cheap.append(100 * (total_costs_nl[tight_index] - total_costs_nl[noSUSD_index]) / total_costs_nl[noSUSD_index])\n",
    "    diff_1h_total_relaxed_cheap.append(100 * (total_costs_nl[relaxed_index] - total_costs_nl[noSUSD_index]) / total_costs_nl[noSUSD_index])"
   ]
  },
  {
   "cell_type": "code",
   "execution_count": null,
   "id": "8689cda8",
   "metadata": {},
   "outputs": [],
   "source": [
    "plt.scatter(temporal_resolutions, diff_nl_relaxed_expensive, label=\"RELAXED\")\n",
    "# plt.title(\"Percentage difference between case without SU/SD and with Tight SU/SD, expensive case, per temporal resolution, NL ONLY\")\n",
    "\n",
    "# plt.scatter(temporal_resolutions, diff_total_relaxed_cheap)\n",
    "\n",
    "plt.scatter(temporal_resolutions, diff_nl_tight_expensive)\n",
    "# plt.title(\"Percentage difference between case without SU/SD and with Tight SU/SD, expensive case, per temporal resolution, NL ONLY\")\n",
    "\n",
    "# plt.scatter(temporal_resolutions, diff_total_tight_cheap)\n",
    "\n",
    "plt.legend()"
   ]
  },
  {
   "cell_type": "code",
   "execution_count": null,
   "id": "fce2619e",
   "metadata": {},
   "outputs": [],
   "source": [
    "total_costs"
   ]
  },
  {
   "cell_type": "code",
   "execution_count": null,
   "id": "bf3a5014",
   "metadata": {},
   "outputs": [],
   "source": [
    "expensive_case_studies = [x for x in case_studies if 'expensive' in x or 'none' in x]\n",
    "expensive_case_studies_indices = [i for i in range(len(case_studies)) if case_studies[i] in expensive_case_studies]\n",
    "\n",
    "print(expensive_case_studies_indices)\n",
    "\n",
    "expensive_case_studies = np.array(case_studies)[expensive_case_studies_indices]\n",
    "expensive_case_studies"
   ]
  },
  {
   "cell_type": "code",
   "execution_count": null,
   "id": "47fe2116",
   "metadata": {},
   "outputs": [],
   "source": [
    "total_costs_np_arr = np.array(total_costs)"
   ]
  },
  {
   "cell_type": "code",
   "execution_count": null,
   "id": "0f54e5b1",
   "metadata": {},
   "outputs": [],
   "source": [
    "total_costs_np_arr"
   ]
  },
  {
   "cell_type": "code",
   "execution_count": null,
   "id": "0b35e261",
   "metadata": {},
   "outputs": [],
   "source": [
    "total_costs_errors = np.abs((total_costs_np_arr - total_costs_np_arr[4]) * 100 / total_costs_np_arr[4])"
   ]
  },
  {
   "cell_type": "code",
   "execution_count": null,
   "id": "a6398508",
   "metadata": {},
   "outputs": [],
   "source": [
    "total_costs_errors"
   ]
  },
  {
   "cell_type": "code",
   "execution_count": null,
   "id": "a90b83d1",
   "metadata": {},
   "outputs": [],
   "source": [
    "total_costs_errors = np.abs((total_costs_np_arr - total_costs_np_arr[4]) * 100 / total_costs_np_arr[4])\n",
    "plot_cost_vs_time(total_costs_errors, \"Computation time (seconds) VS absolute percentage error compared to \\n the 1 hour resolution with full constraints, for the entire system, in the expensive case\")"
   ]
  },
  {
   "cell_type": "code",
   "execution_count": null,
   "id": "faf255fb",
   "metadata": {},
   "outputs": [],
   "source": [
    "total_costs_errors = np.abs((total_costs_np_arr - total_costs_np_arr[2]) * 100 / total_costs_np_arr[2])\n",
    "plot_cost_vs_time(total_costs_errors, \"Computation time (seconds) VS absolute percentage error compared to \\n the 1 hour resolution with full constraints, for the entire system, in the cheap case\", 'cheap')"
   ]
  },
  {
   "cell_type": "code",
   "execution_count": null,
   "id": "61356e70",
   "metadata": {},
   "outputs": [],
   "source": [
    "total_costs_nl_np_arr = np.array(total_costs_nl)\n",
    "total_costs_nl_errors = np.abs((total_costs_nl_np_arr - total_costs_nl_np_arr[4]) * 100 / total_costs_nl_np_arr[4])\n",
    "plot_cost_vs_time(total_costs_nl_errors, \"Computation time (seconds) VS absolute percentage error compared to \\n the 1 hour resolution with full constraints, for the Netherlands only, in the expensive case\", is_NL_only=True)"
   ]
  },
  {
   "cell_type": "code",
   "execution_count": null,
   "id": "6258cf03",
   "metadata": {},
   "outputs": [],
   "source": [
    "total_costs_nl_np_arr = np.array(total_costs_nl)\n",
    "total_costs_nl_errors = np.abs((total_costs_nl_np_arr - total_costs_nl_np_arr[2]) * 100 / total_costs_nl_np_arr[2])\n",
    "plot_cost_vs_time(total_costs_nl_errors, \"Computation time (seconds) VS absolute percentage error compared to \\n the 1 hour resolution with full constraints, for the Netherlands only, in the cheap case\", 'cheap', is_NL_only=True)"
   ]
  },
  {
   "cell_type": "code",
   "execution_count": null,
   "id": "f9e4d3c3",
   "metadata": {},
   "outputs": [],
   "source": [
    "total_costs_nl"
   ]
  },
  {
   "cell_type": "code",
   "execution_count": null,
   "id": "60310203",
   "metadata": {},
   "outputs": [],
   "source": [
    "A = np.array(total_costs_nl)"
   ]
  },
  {
   "cell_type": "code",
   "execution_count": null,
   "id": "404329a7",
   "metadata": {},
   "outputs": [],
   "source": [
    "E = (A - total_costs_nl[0]) * 100 / total_costs_nl[0]"
   ]
  },
  {
   "cell_type": "code",
   "execution_count": null,
   "id": "ab0557bd",
   "metadata": {},
   "outputs": [],
   "source": [
    "E"
   ]
  },
  {
   "cell_type": "code",
   "execution_count": null,
   "id": "4082b1a7",
   "metadata": {},
   "outputs": [],
   "source": [
    "total_costs"
   ]
  },
  {
   "cell_type": "code",
   "execution_count": null,
   "id": "2f2b94a7",
   "metadata": {},
   "outputs": [],
   "source": [
    "total_costs[3]"
   ]
  },
  {
   "cell_type": "code",
   "execution_count": null,
   "id": "bfd07e66",
   "metadata": {},
   "outputs": [],
   "source": [
    "total_costs[4]"
   ]
  },
  {
   "cell_type": "code",
   "execution_count": null,
   "id": "0243a54c",
   "metadata": {},
   "outputs": [],
   "source": []
  },
  {
   "cell_type": "code",
   "execution_count": null,
   "id": "01621a05",
   "metadata": {},
   "outputs": [],
   "source": []
  },
  {
   "cell_type": "code",
   "execution_count": null,
   "id": "ffbfd987",
   "metadata": {},
   "outputs": [],
   "source": []
  },
  {
   "cell_type": "code",
   "execution_count": null,
   "id": "43bcd616",
   "metadata": {},
   "outputs": [],
   "source": []
  },
  {
   "cell_type": "markdown",
   "id": "e6cf402d",
   "metadata": {},
   "source": [
    "# WITH AVG COSTS"
   ]
  },
  {
   "cell_type": "code",
   "execution_count": 14,
   "id": "4cebc31e",
   "metadata": {},
   "outputs": [
    {
     "ename": "ValueError",
     "evalue": "'1h-cheap-tightSUSD' is not in list",
     "output_type": "error",
     "traceback": [
      "\u001b[1;31m---------------------------------------------------------------------------\u001b[0m",
      "\u001b[1;31mValueError\u001b[0m                                Traceback (most recent call last)",
      "Cell \u001b[1;32mIn[14], line 3\u001b[0m\n\u001b[0;32m      1\u001b[0m total_costs_nl_np_arr \u001b[38;5;241m=\u001b[39m np\u001b[38;5;241m.\u001b[39marray(total_costs_nl_means)\n\u001b[0;32m      2\u001b[0m total_costs_nl_errors \u001b[38;5;241m=\u001b[39m np\u001b[38;5;241m.\u001b[39mabs((total_costs_nl_np_arr \u001b[38;5;241m-\u001b[39m total_costs_nl_np_arr[\u001b[38;5;241m2\u001b[39m]) \u001b[38;5;241m*\u001b[39m \u001b[38;5;241m100\u001b[39m \u001b[38;5;241m/\u001b[39m total_costs_nl_np_arr[\u001b[38;5;241m2\u001b[39m])\n\u001b[1;32m----> 3\u001b[0m plot_cost_vs_time(total_costs_nl_errors, \u001b[38;5;124m\"\u001b[39m\u001b[38;5;124mComputation time (seconds) VS absolute percentage error compared to \u001b[39m\u001b[38;5;130;01m\\n\u001b[39;00m\u001b[38;5;124m the 1 hour resolution with full constraints, for the Netherlands only, in the cheap case\u001b[39m\u001b[38;5;124m\"\u001b[39m, \u001b[38;5;124m'\u001b[39m\u001b[38;5;124mcheap\u001b[39m\u001b[38;5;124m'\u001b[39m, is_NL_only\u001b[38;5;241m=\u001b[39m\u001b[38;5;28;01mTrue\u001b[39;00m)\n",
      "Cell \u001b[1;32mIn[13], line 13\u001b[0m, in \u001b[0;36mplot_cost_vs_time\u001b[1;34m(total_costs, title, economic_case, is_NL_only)\u001b[0m\n\u001b[0;32m     11\u001b[0m \u001b[38;5;28;01mfor\u001b[39;00m (temporal_res, colour) \u001b[38;5;129;01min\u001b[39;00m \u001b[38;5;28mzip\u001b[39m(temporal_resolutions, colours):\n\u001b[0;32m     12\u001b[0m     noSUSD_index \u001b[38;5;241m=\u001b[39m case_studies\u001b[38;5;241m.\u001b[39mindex(\u001b[38;5;124mf\u001b[39m\u001b[38;5;124m\"\u001b[39m\u001b[38;5;132;01m{\u001b[39;00mtemporal_res\u001b[38;5;132;01m}\u001b[39;00m\u001b[38;5;124m-none-noSUSD\u001b[39m\u001b[38;5;124m\"\u001b[39m)\n\u001b[1;32m---> 13\u001b[0m     tight_index \u001b[38;5;241m=\u001b[39m case_studies\u001b[38;5;241m.\u001b[39mindex(\u001b[38;5;124mf\u001b[39m\u001b[38;5;124m\"\u001b[39m\u001b[38;5;132;01m{\u001b[39;00mtemporal_res\u001b[38;5;132;01m}\u001b[39;00m\u001b[38;5;124m-\u001b[39m\u001b[38;5;132;01m{\u001b[39;00meconomic_case\u001b[38;5;132;01m}\u001b[39;00m\u001b[38;5;124m-tightSUSD\u001b[39m\u001b[38;5;124m\"\u001b[39m)\n\u001b[0;32m     14\u001b[0m     relaxed_index \u001b[38;5;241m=\u001b[39m case_studies\u001b[38;5;241m.\u001b[39mindex(\u001b[38;5;124mf\u001b[39m\u001b[38;5;124m\"\u001b[39m\u001b[38;5;132;01m{\u001b[39;00mtemporal_res\u001b[38;5;132;01m}\u001b[39;00m\u001b[38;5;124m-\u001b[39m\u001b[38;5;132;01m{\u001b[39;00meconomic_case\u001b[38;5;132;01m}\u001b[39;00m\u001b[38;5;124m-relaxedSUSD\u001b[39m\u001b[38;5;124m\"\u001b[39m)\n\u001b[0;32m     16\u001b[0m     ax\u001b[38;5;241m.\u001b[39mscatter(run_model_means[noSUSD_index], total_costs[noSUSD_index], color\u001b[38;5;241m=\u001b[39mcolour, marker\u001b[38;5;241m=\u001b[39m\u001b[38;5;124m\"\u001b[39m\u001b[38;5;124mo\u001b[39m\u001b[38;5;124m\"\u001b[39m, s\u001b[38;5;241m=\u001b[39m\u001b[38;5;241m80\u001b[39m, edgecolors\u001b[38;5;241m=\u001b[39m\u001b[38;5;124m'\u001b[39m\u001b[38;5;124mblack\u001b[39m\u001b[38;5;124m'\u001b[39m, linewidths\u001b[38;5;241m=\u001b[39m\u001b[38;5;241m0.8\u001b[39m, alpha\u001b[38;5;241m=\u001b[39m\u001b[38;5;241m0.7\u001b[39m)\n",
      "\u001b[1;31mValueError\u001b[0m: '1h-cheap-tightSUSD' is not in list"
     ]
    },
    {
     "data": {
      "image/png": "[encoded data removed]",
      "text/plain": [
       "<Figure size 640x480 with 1 Axes>"
      ]
     },
     "metadata": {},
     "output_type": "display_data"
    }
   ],
   "source": [
    "total_costs_nl_np_arr = np.array(total_costs_nl_means)\n",
    "total_costs_nl_errors = np.abs((total_costs_nl_np_arr - total_costs_nl_np_arr[2]) * 100 / total_costs_nl_np_arr[2])\n",
    "plot_cost_vs_time(total_costs_nl_errors, \"Computation time (seconds) VS absolute percentage error compared to \\n the 1 hour resolution with full constraints, for the Netherlands only, in the cheap case\", 'cheap', is_NL_only=True)"
   ]
  },
  {
   "cell_type": "code",
   "execution_count": 15,
   "id": "13895baf",
   "metadata": {},
   "outputs": [
    {
     "data": {
      "image/png": "[encoded data removed]",
      "text/plain": [
       "<Figure size 640x480 with 1 Axes>"
      ]
     },
     "metadata": {},
     "output_type": "display_data"
    }
   ],
   "source": [
    "total_costs_nl_np_arr = np.array(total_costs_nl_means)\n",
    "total_costs_nl_errors = np.abs((total_costs_nl_np_arr - total_costs_nl_np_arr[2]) * 100 / total_costs_nl_np_arr[2])\n",
    "plot_cost_vs_time(total_costs_nl_errors, \"Computation time (seconds) VS absolute percentage error compared to \\n the 1 hour resolution with full constraints, for the Netherlands only, in the expensive case\", is_NL_only=True)"
   ]
  },
  {
   "cell_type": "code",
   "execution_count": null,
   "id": "f913e68e",
   "metadata": {},
   "outputs": [],
   "source": [
    "total_costs_errors = np.abs((total_costs_means - total_costs_means[2]) * 100 / total_costs_means[2])\n",
    "plot_cost_vs_time(total_costs_errors, \"Computation time (seconds) VS absolute percentage error compared to \\n the 1 hour resolution with full constraints, for the entire system, in the cheap case\", 'cheap')"
   ]
  },
  {
   "cell_type": "code",
   "execution_count": null,
   "id": "247a296b",
   "metadata": {},
   "outputs": [],
   "source": [
    "total_costs_errors = np.abs((total_costs_means - total_costs_means[4]) * 100 / total_costs_means[4])\n",
    "plot_cost_vs_time(total_costs_errors, \"Computation time (seconds) VS absolute percentage error compared to \\n the 1 hour resolution with full constraints, for the entire system, in the expensive case\")"
   ]
  },
  {
   "cell_type": "code",
   "execution_count": null,
   "id": "b81a6547",
   "metadata": {},
   "outputs": [],
   "source": [
    "total_costs_errors"
   ]
  },
  {
   "cell_type": "code",
   "execution_count": null,
   "id": "4a5cc13a",
   "metadata": {},
   "outputs": [],
   "source": [
    "total_costs_errors = np.abs((total_costs_means - total_costs_means[2]) * 100 / total_costs_means[2])\n",
    "total_costs_errors[-5]"
   ]
  },
  {
   "cell_type": "code",
   "execution_count": null,
   "id": "513829dd",
   "metadata": {},
   "outputs": [],
   "source": [
    "total_costs_nl_errors = np.abs((total_costs_nl_np_arr - total_costs_nl_np_arr[4]) * 100 / total_costs_nl_np_arr[4])\n",
    "total_costs_nl_errors[-5]"
   ]
  },
  {
   "cell_type": "code",
   "execution_count": null,
   "id": "05f6ddb0",
   "metadata": {},
   "outputs": [],
   "source": []
  }
 ],
 "metadata": {
  "kernelspec": {
   "display_name": "Python 3 (ipykernel)",
   "language": "python",
   "name": "python3"
  },
  "language_info": {
   "codemirror_mode": {
    "name": "ipython",
    "version": 3
   },
   "file_extension": ".py",
   "mimetype": "text/x-python",
   "name": "python",
   "nbconvert_exporter": "python",
   "pygments_lexer": "ipython3",
   "version": "3.11.4"
  }
 },
 "nbformat": 4,
 "nbformat_minor": 5
}
