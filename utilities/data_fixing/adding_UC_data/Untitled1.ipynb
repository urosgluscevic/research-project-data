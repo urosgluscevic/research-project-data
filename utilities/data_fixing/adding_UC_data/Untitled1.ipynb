{
 "cells": [
  {
   "cell_type": "code",
   "execution_count": 9,
   "id": "14381fd7",
   "metadata": {},
   "outputs": [],
   "source": [
    "import pandas as pd"
   ]
  },
  {
   "cell_type": "code",
   "execution_count": 10,
   "id": "d022f316",
   "metadata": {},
   "outputs": [],
   "source": [
    "timeblock_size = 6"
   ]
  },
  {
   "cell_type": "code",
   "execution_count": 11,
   "id": "cb104f71",
   "metadata": {},
   "outputs": [],
   "source": [
    "# case_studies = [\n",
    "#     \"10-rps-uniform-6h-noUC\",\n",
    "#     \"10-rps-uniform-6h-eq7UC\",\n",
    "#     \"10-rps-uniform-6h-eq9UC\"\n",
    "# ]\n",
    "\n",
    "case_studies = [\n",
    "    \"data-out\"\n",
    "]"
   ]
  },
  {
   "cell_type": "code",
   "execution_count": 12,
   "id": "d182cffc",
   "metadata": {},
   "outputs": [],
   "source": [
    "for case_study in case_studies:\n",
    "    benchmark_dir_path = '../../../group_repo/TulipaEnergyModel.jl/benchmark/'\n",
    "    assets_rep_periods_partitions_df = pd.read_csv(f\"{benchmark_dir_path}{case_study}/assets_rep_periods_partitions.csv\")\n",
    "    assets_timeframe_partitions_df = pd.read_csv(f\"{benchmark_dir_path}{case_study}/assets_timeframe_partitions.csv\")\n",
    "    flows_rep_periods_partitions_df = pd.read_csv(f\"{benchmark_dir_path}{case_study}/flows_rep_periods_partitions.csv\")\n",
    "#     rep_periods_data_df = pd.read_csv(f\"{benchmark_dir_path}{case_study}/rep_periods_data.csv\")\n",
    "    \n",
    "    assets_rep_periods_partitions_df['partition'] = timeblock_size\n",
    "    assets_timeframe_partitions_df['partition'] = timeblock_size\n",
    "    flows_rep_periods_partitions_df['partition'] = timeblock_size\n",
    "#     rep_periods_data_df['resolution'] = timeblock_size\n",
    "    \n",
    "#     benchmark_dir_path = '../../../group_repo/TulipaEnergyModel.jl/benchmark/'\n",
    "    assets_rep_periods_partitions_df.to_csv(f\"{benchmark_dir_path}{case_study}/assets_rep_periods_partitions.csv\", index=False)\n",
    "    assets_timeframe_partitions_df.to_csv(f\"{benchmark_dir_path}{case_study}/assets_timeframe_partitions.csv\", index=False)\n",
    "    flows_rep_periods_partitions_df.to_csv(f\"{benchmark_dir_path}{case_study}/flows_rep_periods_partitions.csv\", index=False)\n",
    "#     rep_periods_data_df.to_csv(f\"{benchmark_dir_path}{case_study}/rep_periods_data.csv\", index=False)"
   ]
  },
  {
   "cell_type": "code",
   "execution_count": 5,
   "id": "71744c9b",
   "metadata": {},
   "outputs": [],
   "source": [
    "# assets_rep_periods_partitions_df = pd.read_csv('assets_rep_periods_partitions.csv')\n",
    "# assets_timeframe_partitions_df = pd.read_csv('assets_timeframe_partitions.csv')\n",
    "# flows_rep_periods_partitions_df = pd.read_csv('flows_rep_periods_partitions.csv')\n",
    "# rep_periods_data_df = pd.read_csv('rep_periods_data.csv')"
   ]
  },
  {
   "cell_type": "code",
   "execution_count": 6,
   "id": "a7207f8d",
   "metadata": {},
   "outputs": [],
   "source": [
    "# assets_rep_periods_partitions_df['partition'] = timeblock_size\n",
    "# assets_timeframe_partitions_df['partition'] = timeblock_size\n",
    "# flows_rep_periods_partitions_df['partition'] = timeblock_size\n",
    "# rep_periods_data_df['resolution'] = timeblock_size"
   ]
  },
  {
   "cell_type": "code",
   "execution_count": 7,
   "id": "33b97e8f",
   "metadata": {},
   "outputs": [],
   "source": [
    "# assets_rep_periods_partitions_df.to_csv('assets_rep_periods_partitions-fixed.csv', index=False)\n",
    "# assets_timeframe_partitions_df.to_csv('assets_timeframe_partitions-fixed.csv', index=False)\n",
    "# flows_rep_periods_partitions_df.to_csv('flows_rep_periods_partitions-fixed.csv', index=False)\n",
    "# rep_periods_data_df.to_csv('rep_periods_data-fixed.csv', index=False)"
   ]
  },
  {
   "cell_type": "code",
   "execution_count": null,
   "id": "99007ae0",
   "metadata": {},
   "outputs": [],
   "source": []
  }
 ],
 "metadata": {
  "kernelspec": {
   "display_name": "Python 3 (ipykernel)",
   "language": "python",
   "name": "python3"
  },
  "language_info": {
   "codemirror_mode": {
    "name": "ipython",
    "version": 3
   },
   "file_extension": ".py",
   "mimetype": "text/x-python",
   "name": "python",
   "nbconvert_exporter": "python",
   "pygments_lexer": "ipython3",
   "version": "3.11.4"
  }
 },
 "nbformat": 4,
 "nbformat_minor": 5
}
